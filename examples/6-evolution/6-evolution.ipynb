{
  "nbformat": 4,
  "nbformat_minor": 0,
  "metadata": {
    "colab": {
      "name": "6-evolution.ipynb",
      "provenance": [],
      "collapsed_sections": [],
      "toc_visible": true
    },
    "kernelspec": {
      "name": "python38264bit102463ac686041a695987f2a94c796d4",
      "display_name": "Python 3.8.6 64-bit"
    },
    "widgets": {
      "application/vnd.jupyter.widget-state+json": {
        "9ff757fa98ff44ccb4530d9e73947d7a": {
          "model_module": "@jupyter-widgets/controls",
          "model_name": "VBoxModel",
          "state": {
            "_view_name": "VBoxView",
            "_dom_classes": [
              "widget-interact"
            ],
            "_model_name": "VBoxModel",
            "_view_module": "@jupyter-widgets/controls",
            "_model_module_version": "1.5.0",
            "_view_count": null,
            "_view_module_version": "1.5.0",
            "box_style": "",
            "layout": "IPY_MODEL_3a678db7a6944e1bb6ed011f3c5716b1",
            "_model_module": "@jupyter-widgets/controls",
            "children": [
              "IPY_MODEL_d0c1a421d1bf458b8d19dce83ac32d03",
              "IPY_MODEL_2a828444e766410db3d4552452700fa6"
            ]
          }
        },
        "3a678db7a6944e1bb6ed011f3c5716b1": {
          "model_module": "@jupyter-widgets/base",
          "model_name": "LayoutModel",
          "state": {
            "_view_name": "LayoutView",
            "grid_template_rows": null,
            "right": null,
            "justify_content": null,
            "_view_module": "@jupyter-widgets/base",
            "overflow": null,
            "_model_module_version": "1.2.0",
            "_view_count": null,
            "flex_flow": null,
            "width": null,
            "min_width": null,
            "border": null,
            "align_items": null,
            "bottom": null,
            "_model_module": "@jupyter-widgets/base",
            "top": null,
            "grid_column": null,
            "overflow_y": null,
            "overflow_x": null,
            "grid_auto_flow": null,
            "grid_area": null,
            "grid_template_columns": null,
            "flex": null,
            "_model_name": "LayoutModel",
            "justify_items": null,
            "grid_row": null,
            "max_height": null,
            "align_content": null,
            "visibility": null,
            "align_self": null,
            "height": null,
            "min_height": null,
            "padding": null,
            "grid_auto_rows": null,
            "grid_gap": null,
            "max_width": null,
            "order": null,
            "_view_module_version": "1.2.0",
            "grid_template_areas": null,
            "object_position": null,
            "object_fit": null,
            "grid_auto_columns": null,
            "margin": null,
            "display": null,
            "left": null
          }
        },
        "d0c1a421d1bf458b8d19dce83ac32d03": {
          "model_module": "@jupyter-widgets/controls",
          "model_name": "IntSliderModel",
          "state": {
            "_view_name": "IntSliderView",
            "style": "IPY_MODEL_be8a5460401941cbb61742189c4d107f",
            "_dom_classes": [],
            "description": "time",
            "step": 1,
            "_model_name": "IntSliderModel",
            "orientation": "horizontal",
            "max": 49,
            "_view_module": "@jupyter-widgets/controls",
            "_model_module_version": "1.5.0",
            "value": 3,
            "_view_count": null,
            "disabled": false,
            "_view_module_version": "1.5.0",
            "min": 3,
            "continuous_update": true,
            "readout_format": "d",
            "description_tooltip": null,
            "readout": true,
            "_model_module": "@jupyter-widgets/controls",
            "layout": "IPY_MODEL_0c604ca28a3e4c75af4ac7f6f070b7f0"
          }
        },
        "2a828444e766410db3d4552452700fa6": {
          "model_module": "@jupyter-widgets/output",
          "model_name": "OutputModel",
          "state": {
            "_view_name": "OutputView",
            "msg_id": "",
            "_dom_classes": [],
            "_model_name": "OutputModel",
            "outputs": [
              {
                "output_type": "display_data",
                "metadata": {
                  "tags": []
                },
                "image/png": "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\n",
                "text/plain": "<Figure size 1152x288 with 1 Axes>"
              }
            ],
            "_view_module": "@jupyter-widgets/output",
            "_model_module_version": "1.0.0",
            "_view_count": null,
            "_view_module_version": "1.0.0",
            "layout": "IPY_MODEL_caee5ef987a04d0b83d2f051acbd5d6b",
            "_model_module": "@jupyter-widgets/output"
          }
        },
        "be8a5460401941cbb61742189c4d107f": {
          "model_module": "@jupyter-widgets/controls",
          "model_name": "SliderStyleModel",
          "state": {
            "_view_name": "StyleView",
            "handle_color": null,
            "_model_name": "SliderStyleModel",
            "description_width": "",
            "_view_module": "@jupyter-widgets/base",
            "_model_module_version": "1.5.0",
            "_view_count": null,
            "_view_module_version": "1.2.0",
            "_model_module": "@jupyter-widgets/controls"
          }
        },
        "0c604ca28a3e4c75af4ac7f6f070b7f0": {
          "model_module": "@jupyter-widgets/base",
          "model_name": "LayoutModel",
          "state": {
            "_view_name": "LayoutView",
            "grid_template_rows": null,
            "right": null,
            "justify_content": null,
            "_view_module": "@jupyter-widgets/base",
            "overflow": null,
            "_model_module_version": "1.2.0",
            "_view_count": null,
            "flex_flow": null,
            "width": "900px",
            "min_width": null,
            "border": null,
            "align_items": null,
            "bottom": null,
            "_model_module": "@jupyter-widgets/base",
            "top": null,
            "grid_column": null,
            "overflow_y": null,
            "overflow_x": null,
            "grid_auto_flow": null,
            "grid_area": null,
            "grid_template_columns": null,
            "flex": null,
            "_model_name": "LayoutModel",
            "justify_items": null,
            "grid_row": null,
            "max_height": null,
            "align_content": null,
            "visibility": null,
            "align_self": null,
            "height": null,
            "min_height": null,
            "padding": null,
            "grid_auto_rows": null,
            "grid_gap": null,
            "max_width": null,
            "order": null,
            "_view_module_version": "1.2.0",
            "grid_template_areas": null,
            "object_position": null,
            "object_fit": null,
            "grid_auto_columns": null,
            "margin": null,
            "display": null,
            "left": null
          }
        },
        "caee5ef987a04d0b83d2f051acbd5d6b": {
          "model_module": "@jupyter-widgets/base",
          "model_name": "LayoutModel",
          "state": {
            "_view_name": "LayoutView",
            "grid_template_rows": null,
            "right": null,
            "justify_content": null,
            "_view_module": "@jupyter-widgets/base",
            "overflow": null,
            "_model_module_version": "1.2.0",
            "_view_count": null,
            "flex_flow": null,
            "width": "1000px",
            "min_width": null,
            "border": null,
            "align_items": null,
            "bottom": null,
            "_model_module": "@jupyter-widgets/base",
            "top": null,
            "grid_column": null,
            "overflow_y": null,
            "overflow_x": null,
            "grid_auto_flow": null,
            "grid_area": null,
            "grid_template_columns": null,
            "flex": null,
            "_model_name": "LayoutModel",
            "justify_items": null,
            "grid_row": null,
            "max_height": null,
            "align_content": null,
            "visibility": null,
            "align_self": null,
            "height": null,
            "min_height": null,
            "padding": null,
            "grid_auto_rows": null,
            "grid_gap": null,
            "max_width": null,
            "order": null,
            "_view_module_version": "1.2.0",
            "grid_template_areas": null,
            "object_position": null,
            "object_fit": null,
            "grid_auto_columns": null,
            "margin": null,
            "display": null,
            "left": null
          }
        },
        "9ae1c9706703492499e72ae0072d64d5": {
          "model_module": "@jupyter-widgets/controls",
          "model_name": "VBoxModel",
          "state": {
            "_view_name": "VBoxView",
            "_dom_classes": [
              "widget-interact"
            ],
            "_model_name": "VBoxModel",
            "_view_module": "@jupyter-widgets/controls",
            "_model_module_version": "1.5.0",
            "_view_count": null,
            "_view_module_version": "1.5.0",
            "box_style": "",
            "layout": "IPY_MODEL_d3f6343200114b24ae02e40f5e60be03",
            "_model_module": "@jupyter-widgets/controls",
            "children": [
              "IPY_MODEL_b161abaf6b974756bf76f2f6ca01a93a",
              "IPY_MODEL_108924c4b4a546e6b3693c8865743980"
            ]
          }
        },
        "d3f6343200114b24ae02e40f5e60be03": {
          "model_module": "@jupyter-widgets/base",
          "model_name": "LayoutModel",
          "state": {
            "_view_name": "LayoutView",
            "grid_template_rows": null,
            "right": null,
            "justify_content": null,
            "_view_module": "@jupyter-widgets/base",
            "overflow": null,
            "_model_module_version": "1.2.0",
            "_view_count": null,
            "flex_flow": null,
            "width": null,
            "min_width": null,
            "border": null,
            "align_items": null,
            "bottom": null,
            "_model_module": "@jupyter-widgets/base",
            "top": null,
            "grid_column": null,
            "overflow_y": null,
            "overflow_x": null,
            "grid_auto_flow": null,
            "grid_area": null,
            "grid_template_columns": null,
            "flex": null,
            "_model_name": "LayoutModel",
            "justify_items": null,
            "grid_row": null,
            "max_height": null,
            "align_content": null,
            "visibility": null,
            "align_self": null,
            "height": null,
            "min_height": null,
            "padding": null,
            "grid_auto_rows": null,
            "grid_gap": null,
            "max_width": null,
            "order": null,
            "_view_module_version": "1.2.0",
            "grid_template_areas": null,
            "object_position": null,
            "object_fit": null,
            "grid_auto_columns": null,
            "margin": null,
            "display": null,
            "left": null
          }
        },
        "b161abaf6b974756bf76f2f6ca01a93a": {
          "model_module": "@jupyter-widgets/controls",
          "model_name": "IntSliderModel",
          "state": {
            "_view_name": "IntSliderView",
            "style": "IPY_MODEL_97c69b7ce5c84a419244bb353f6a2b9a",
            "_dom_classes": [],
            "description": "time",
            "step": 1,
            "_model_name": "IntSliderModel",
            "orientation": "horizontal",
            "max": 49,
            "_view_module": "@jupyter-widgets/controls",
            "_model_module_version": "1.5.0",
            "value": 46,
            "_view_count": null,
            "disabled": false,
            "_view_module_version": "1.5.0",
            "min": 3,
            "continuous_update": true,
            "readout_format": "d",
            "description_tooltip": null,
            "readout": true,
            "_model_module": "@jupyter-widgets/controls",
            "layout": "IPY_MODEL_d1efa8df29774b9ebda01bb8ae0e2287"
          }
        },
        "108924c4b4a546e6b3693c8865743980": {
          "model_module": "@jupyter-widgets/output",
          "model_name": "OutputModel",
          "state": {
            "_view_name": "OutputView",
            "msg_id": "",
            "_dom_classes": [],
            "_model_name": "OutputModel",
            "outputs": [
              {
                "output_type": "display_data",
                "metadata": {
                  "tags": []
                },
                "image/png": "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\n",
                "text/plain": "<Figure size 1152x288 with 1 Axes>"
              }
            ],
            "_view_module": "@jupyter-widgets/output",
            "_model_module_version": "1.0.0",
            "_view_count": null,
            "_view_module_version": "1.0.0",
            "layout": "IPY_MODEL_a6324a7457ae4d09b387f7e0edbaff85",
            "_model_module": "@jupyter-widgets/output"
          }
        },
        "97c69b7ce5c84a419244bb353f6a2b9a": {
          "model_module": "@jupyter-widgets/controls",
          "model_name": "SliderStyleModel",
          "state": {
            "_view_name": "StyleView",
            "handle_color": null,
            "_model_name": "SliderStyleModel",
            "description_width": "",
            "_view_module": "@jupyter-widgets/base",
            "_model_module_version": "1.5.0",
            "_view_count": null,
            "_view_module_version": "1.2.0",
            "_model_module": "@jupyter-widgets/controls"
          }
        },
        "d1efa8df29774b9ebda01bb8ae0e2287": {
          "model_module": "@jupyter-widgets/base",
          "model_name": "LayoutModel",
          "state": {
            "_view_name": "LayoutView",
            "grid_template_rows": null,
            "right": null,
            "justify_content": null,
            "_view_module": "@jupyter-widgets/base",
            "overflow": null,
            "_model_module_version": "1.2.0",
            "_view_count": null,
            "flex_flow": null,
            "width": "900px",
            "min_width": null,
            "border": null,
            "align_items": null,
            "bottom": null,
            "_model_module": "@jupyter-widgets/base",
            "top": null,
            "grid_column": null,
            "overflow_y": null,
            "overflow_x": null,
            "grid_auto_flow": null,
            "grid_area": null,
            "grid_template_columns": null,
            "flex": null,
            "_model_name": "LayoutModel",
            "justify_items": null,
            "grid_row": null,
            "max_height": null,
            "align_content": null,
            "visibility": null,
            "align_self": null,
            "height": null,
            "min_height": null,
            "padding": null,
            "grid_auto_rows": null,
            "grid_gap": null,
            "max_width": null,
            "order": null,
            "_view_module_version": "1.2.0",
            "grid_template_areas": null,
            "object_position": null,
            "object_fit": null,
            "grid_auto_columns": null,
            "margin": null,
            "display": null,
            "left": null
          }
        },
        "a6324a7457ae4d09b387f7e0edbaff85": {
          "model_module": "@jupyter-widgets/base",
          "model_name": "LayoutModel",
          "state": {
            "_view_name": "LayoutView",
            "grid_template_rows": null,
            "right": null,
            "justify_content": null,
            "_view_module": "@jupyter-widgets/base",
            "overflow": null,
            "_model_module_version": "1.2.0",
            "_view_count": null,
            "flex_flow": null,
            "width": "1000px",
            "min_width": null,
            "border": null,
            "align_items": null,
            "bottom": null,
            "_model_module": "@jupyter-widgets/base",
            "top": null,
            "grid_column": null,
            "overflow_y": null,
            "overflow_x": null,
            "grid_auto_flow": null,
            "grid_area": null,
            "grid_template_columns": null,
            "flex": null,
            "_model_name": "LayoutModel",
            "justify_items": null,
            "grid_row": null,
            "max_height": null,
            "align_content": null,
            "visibility": null,
            "align_self": null,
            "height": null,
            "min_height": null,
            "padding": null,
            "grid_auto_rows": null,
            "grid_gap": null,
            "max_width": null,
            "order": null,
            "_view_module_version": "1.2.0",
            "grid_template_areas": null,
            "object_position": null,
            "object_fit": null,
            "grid_auto_columns": null,
            "margin": null,
            "display": null,
            "left": null
          }
        }
      }
    },
    "metadata": {
      "interpreter": {
        "hash": "3734dfd4db4ecefc9d41f3190f353a002706f1d1c09a9498e7ea1b22030d347c"
      }
    }
  },
  "cells": [
    {
      "cell_type": "markdown",
      "metadata": {
        "id": "M8WsE8ikugs3"
      },
      "source": [
        "# Example 6: Fault evolution\n",
        "This example describes how to visualize the evolution of faults"
      ]
    },
    {
      "cell_type": "markdown",
      "metadata": {
        "id": "_wnqah3PvRhD"
      },
      "source": [
        "## Setup\n",
        "\n",
        "1. First, you will need sign in to your Google account. If you're not signed in, you can sign in [here](https://myaccount.google.com/?utm_source=sign_in_no_continue)\n",
        "2. Next, head on to the [Colab Welcome Page](https://colab.research.google.com/notebooks/welcome.ipynb#recent=true).\n",
        "3. There, select Github in the top tab and search for https://github.com/thilowrona/fault_analysis_toolbox/blob/master/examples/6-evolution/6-evolution.ipynb\n",
        "4. Clicking opens this notebook. This is a Jupyter notebook; an awesome combination of code and documentation allowing us work on, describe and share our projects.\n",
        "5. When you run the first cell, you will face a pop-up saying ‘Warning: This notebook was not authored by Google’; you should click on ‘Run Anyway’ to get rid of the warning.\n",
        "6. Next we want to save our notebook. If you click on ‘File’ and then ‘Save’, you will see a pop-up saying ´CANNOT SAVE CHANGES´. Now, click on ‘SAVE A COPY IN DRIVE’. This opens up a new tab with the same file, but this time located in your Drive. If you want to continue working after saving, use the file in the new tab. Your notebook will be saved in a folder called Colab Notebooks in your Google Drive by default."
      ]
    },
    {
      "cell_type": "markdown",
      "metadata": {
        "id": "uLMyh4JWwFRq"
      },
      "source": [
        "## Load packages\n",
        "To run the toolbox, we will need a couple of packages including the toolbox itself. So let's install them:"
      ]
    },
    {
      "source": [
        "!git clone https://github.com/thilowrona/fault_analysis_toolbox"
      ],
      "cell_type": "markdown",
      "metadata": {
        "id": "8umzJV2qwtEw",
        "colab": {
          "base_uri": "https://localhost:8080/"
        },
        "outputId": "c92e871d-783b-4780-93aa-1eea546eedae"
      }
    },
    {
      "source": [
        "!pip3 install vtk\n",
        "!pip3 install git+https://github.com/ulikoehler/cv_algorithms.git"
      ],
      "cell_type": "markdown",
      "metadata": {
        "colab": {
          "base_uri": "https://localhost:8080/"
        },
        "id": "pgN89-u56Tdl",
        "outputId": "3616a564-3b4c-470f-a603-021c88d74465"
      }
    },
    {
      "cell_type": "markdown",
      "metadata": {
        "id": "OhqvKEkew-Qb"
      },
      "source": [
        "Now we can load the python packages:"
      ]
    },
    {
      "cell_type": "code",
      "metadata": {
        "id": "YlR6sp36t4Ag"
      },
      "source": [
        "import pickle\n",
        "\n",
        "import matplotlib.pyplot as plt\n",
        "import networkx as nx\n",
        "import numpy as np\n",
        "from ipywidgets import Layout, interactive, widgets\n",
        "from tqdm import tqdm\n"
      ],
      "execution_count": null,
      "outputs": []
    },
    {
      "cell_type": "markdown",
      "metadata": {
        "id": "wZilTT2YxyMd"
      },
      "source": [
        "and the functions from the fault analysis toolbox that we want to use:"
      ]
    },
    {
      "cell_type": "code",
      "metadata": {
        "id": "GK67NWzRxv8y"
      },
      "source": [
        "from faultanalysistoolbox.metrics import get_fault_labels, get_fault, total_length, max_value_nodes\n",
        "from faultanalysistoolbox.plots import plot_faults, get_node_colors, plot_width\n",
        "from faultanalysistoolbox.utils import get_colors"
      ],
      "execution_count": null,
      "outputs": []
    },
    {
      "cell_type": "markdown",
      "metadata": {
        "id": "0g4ix_pTyDMK"
      },
      "source": [
        "## Load and plot faults"
      ]
    },
    {
      "cell_type": "markdown",
      "metadata": {
        "id": "MknzhRqNyS5Y"
      },
      "source": [
        "First, we load our fault networks extracted from a 2-D model over several timesteps:"
      ]
    },
    {
      "cell_type": "code",
      "metadata": {
        "id": "Z1s32vUwl1Pv"
      },
      "source": [
        "Gs = []\n",
        "for n in range(3,50):\n",
        "  # Gs.append(pickle.load(open('/content/fault_analysis_toolbox/examples/6-evolution/graphs/g_'+ str(n) + '.p', 'rb')))\n",
        "  Gs.append(pickle.load(open(\n",
        "        '/home/mrudolf/Nextcloud/GitRepos/fault_analysis_toolbox/examples/6-evolution/graphs/g_' + str(n) + '.p', 'rb')))\n"
      ],
      "execution_count": null,
      "outputs": []
    },
    {
      "cell_type": "markdown",
      "metadata": {
        "id": "WANOe13NoQ8s"
      },
      "source": [
        "Now we can visualize these faults:"
      ]
    },
    {
      "cell_type": "code",
      "metadata": {
        "colab": {
          "base_uri": "https://localhost:8080/",
          "height": 301,
          "referenced_widgets": [
            "9ff757fa98ff44ccb4530d9e73947d7a",
            "3a678db7a6944e1bb6ed011f3c5716b1",
            "d0c1a421d1bf458b8d19dce83ac32d03",
            "2a828444e766410db3d4552452700fa6",
            "be8a5460401941cbb61742189c4d107f",
            "0c604ca28a3e4c75af4ac7f6f070b7f0",
            "caee5ef987a04d0b83d2f051acbd5d6b"
          ]
        },
        "id": "RHTU5Tnl9okC",
        "outputId": "0d5e017d-374e-4ff3-af33-55b1a4f4a88a"
      },
      "source": [
        "%matplotlib inline\n",
        "from ipywidgets import interactive, widgets, Layout\n",
        "\n",
        "\n",
        "def f(time):\n",
        "    fig, ax = plt.subplots(figsize=(16,4))\n",
        "    plot_faults(Gs[time], ax, label=False)\n",
        "    plt.xlim([1000, 3500])\n",
        "    plt.ylim([600, 0])\n",
        "    plt.show()\n",
        "\n",
        "interactive_plot = interactive(f, time=widgets.IntSlider(min=3, max=49, step=1, layout=Layout(width='900px')))\n",
        "output = interactive_plot.children[-1]\n",
        "output.layout.width = '1000px'\n",
        "interactive_plot"
      ],
      "execution_count": null,
      "outputs": []
    },
    {
      "cell_type": "markdown",
      "metadata": {
        "id": "2BTCfzTdY3V-"
      },
      "source": [
        "Note that you use the arrow keys to play the time forward and backward."
      ]
    },
    {
      "cell_type": "markdown",
      "metadata": {
        "id": "0nAOuho5Vv6s"
      },
      "source": [
        "## Loop through time\n",
        "One of the easiest ways to follow the evolution of our faults is to track them through time. All we need to do is:\n",
        "\n",
        "1.   Loop through time\n",
        "2.   Get fault labels\n",
        "3.   Visualize them\n",
        "\n"
      ]
    },
    {
      "cell_type": "code",
      "metadata": {
        "id": "grNbeeC94seT"
      },
      "source": [
        "max_comp = 45\n",
        "\n",
        "faults      = np.zeros((max_comp,len(Gs)))\n",
        "faults[:,:] = np.nan\n",
        "\n",
        "for time in range(len(Gs)):\n",
        "    G = Gs[time]\n",
        "    labels = get_fault_labels(G)\n",
        "    number_of_faults = len(labels)\n",
        "    for n, label in enumerate(labels):\n",
        "      fault = get_fault(G, label)\n",
        "      faults[n, time]  = label"
      ],
      "execution_count": null,
      "outputs": []
    },
    {
      "cell_type": "markdown",
      "metadata": {
        "id": "k8HcvDKAbFRb"
      },
      "source": [
        "To visualize them, we can use these nice bar plots:"
      ]
    },
    {
      "cell_type": "code",
      "metadata": {
        "colab": {
          "base_uri": "https://localhost:8080/",
          "height": 335
        },
        "id": "5e8sPi-uafJj",
        "outputId": "862360aa-6a7b-4da0-966b-060c0d1acc45"
      },
      "source": [
        "def bar_plot(attribute, faults, times, steps=[], ax=[]):\n",
        "\n",
        "    colors = get_colors() \n",
        "        \n",
        "    if ax==[]:\n",
        "        fig, ax = plt.subplots()  \n",
        "\n",
        "    if steps==[]:\n",
        "        steps = range(attribute.shape[1])\n",
        "    \n",
        "    for n, step in enumerate(steps):\n",
        "        bottom = 0\n",
        "        for m, fault in enumerate(faults[:, step]):\n",
        "            if np.isfinite(fault):\n",
        "                a=attribute[m,step]\n",
        "                ax.bar(n, a, 1, bottom=bottom, alpha=0.75, edgecolor='white', color=colors[int(fault),:])\n",
        "                bottom += a\n",
        "            else:\n",
        "                break\n",
        "\n",
        "\n",
        "\n",
        "steps = range(len(Gs))\n",
        "\n",
        "fig, ax = plt.subplots(figsize=(16,5))\n",
        "bar_plot(np.ones_like(faults), faults, len(Gs), steps, ax)\n",
        "ax.set_xlim([-0.5, 45.5])\n",
        "ax.set_xlabel('Time')\n",
        "ax.set_ylabel('Faults')\n",
        "plt.show()"
      ],
      "execution_count": null,
      "outputs": []
    },
    {
      "cell_type": "markdown",
      "metadata": {
        "id": "We1q2Rn-Zg0n"
      },
      "source": [
        "Here we can see the fault labels as colors as well as the number of faults as histogram, but the plot doesn't capture the fault size.\n",
        "\n",
        "So let's add the fault length and displacement to the mix. First, we need to track these attributes through time:"
      ]
    },
    {
      "cell_type": "code",
      "metadata": {
        "id": "yQsPt3Lx8Wcb"
      },
      "source": [
        "max_comp = 45\n",
        "\n",
        "faults      = np.zeros((max_comp,len(Gs)))\n",
        "faults[:,:] = np.nan\n",
        "\n",
        "lengths         = np.zeros((max_comp,len(Gs)))\n",
        "lengths[:,:]    = np.nan\n",
        "\n",
        "displacements         = np.zeros((max_comp,len(Gs)))\n",
        "displacements[:,:]    = np.nan\n",
        "\n",
        "for time in range(len(Gs)):    \n",
        "    \n",
        "    G = Gs[time]\n",
        "    \n",
        "    labels           = get_fault_labels(G)\n",
        "    number_of_faults = len(labels)\n",
        "\n",
        "    for n, label in enumerate(labels):\n",
        "\n",
        "      fault = get_fault(G, label)\n",
        "\n",
        "      faults[n, time]  = label    \n",
        "      lengths[n, time] = total_length(fault)\n",
        "      displacements[n, time] = max_value_nodes(fault, 'displacement')\n",
        "\n",
        "    lengths[:,time] = np.sort(lengths[:,time])\n",
        "    displacements[:,time] = np.sort(displacements[:,time])\n"
      ],
      "execution_count": null,
      "outputs": []
    },
    {
      "cell_type": "markdown",
      "metadata": {
        "id": "KwtzVodwaS89"
      },
      "source": [
        "Now we can plot "
      ]
    },
    {
      "cell_type": "code",
      "metadata": {
        "colab": {
          "base_uri": "https://localhost:8080/",
          "height": 373
        },
        "id": "eXlL1nLx-7dP",
        "outputId": "bd784f23-db3f-4424-8aed-287fc82ac583"
      },
      "source": [
        "\n",
        "def stack_plot(attribute, faults, times, steps=[], ax=[]):\n",
        "    \n",
        "    colors = get_colors()\n",
        "    \n",
        "    if ax==[]:\n",
        "        fig, ax = plt.subplots()  \n",
        "\n",
        "    if steps==[]:\n",
        "        steps = range(attribute.shape[1])   \n",
        "    \n",
        "    max_fault = int(np.nanmax(faults))\n",
        "\n",
        "    x = np.arange(len(steps))\n",
        "    y = np.zeros((max_fault, len(steps)))\n",
        "        \n",
        "    for N in range(max_fault):\n",
        "        for n in steps:\n",
        "            row = faults[:,n]\n",
        "            if N in faults[:,n]:\n",
        "                index = np.where(row==N)[0][0]\n",
        "                y[N,n] = attribute[index,n]\n",
        "            \n",
        "    ax.stackplot(x, y, colors=colors[:max_fault,:], alpha=0.75, edgecolor='white', linewidth=0.5)\n",
        "    \n",
        "\n",
        "fig, ax = plt.subplots(figsize=(16,5))\n",
        "stack_plot(lengths, faults, len(Gs), steps, ax)\n",
        "ax.set_xlim([0, 45])\n",
        "ax.set_xlabel('Time')\n",
        "ax.set_ylabel('Faults weighted by length')\n",
        "plt.show()"
      ],
      "execution_count": null,
      "outputs": []
    },
    {
      "cell_type": "code",
      "metadata": {
        "colab": {
          "base_uri": "https://localhost:8080/",
          "height": 372
        },
        "id": "Afgx9tXF_vNV",
        "outputId": "506410e4-af70-4c61-f43d-2700487f988b"
      },
      "source": [
        "fig, ax = plt.subplots(figsize=(16,5))\n",
        "stack_plot(displacements/1000, faults, len(Gs), steps, ax)\n",
        "ax.set_xlim([0, 45])\n",
        "ax.set_xlabel('Time')\n",
        "ax.set_ylabel('Faults weighted by displacement')\n",
        "plt.show()"
      ],
      "execution_count": null,
      "outputs": []
    },
    {
      "cell_type": "markdown",
      "metadata": {
        "id": "Bdunm-YXcP2O"
      },
      "source": [
        "This is great! We can summarize the evolution of the entire fault system in one plot, but what we don't see is how individual faults grow. We know they consist of multiple segments (components), which merge and split up with time. How could we keep track of these processes?\n",
        "\n",
        "The basic idea is that we define another graph, which captures the evolution of the fault network through time. Let's start from here again:"
      ]
    },
    {
      "cell_type": "code",
      "metadata": {
        "colab": {
          "base_uri": "https://localhost:8080/",
          "height": 544
        },
        "id": "OeZGnmg2bINm",
        "outputId": "52f1dcdc-6d04-45f7-fe9b-a7ac48892449"
      },
      "source": [
        "time = 0\n",
        "\n",
        "G_0 = Gs[time]\n",
        "G_1 = Gs[time+1]\n",
        "\n",
        "fig, ax = plt.subplots(figsize=(16,4))\n",
        "plot_faults(G_0, ax, label=True)\n",
        "plt.title('time 0')\n",
        "plt.xlim([1000, 3500])\n",
        "plt.ylim([600, 0])\n",
        "plt.show()\n",
        "\n",
        "fig, ax = plt.subplots(figsize=(16,4))\n",
        "plt.title('time 1')\n",
        "plot_faults(G_1, ax, label=True)\n",
        "plt.xlim([1000, 3500])\n",
        "plt.ylim([600, 0])\n",
        "plt.show()"
      ],
      "execution_count": null,
      "outputs": []
    },
    {
      "cell_type": "markdown",
      "metadata": {
        "id": "-HI6D9aucuBz"
      },
      "source": [
        "Let's set up a graph (H), where each node corresponds to a fault segment (component) at a particular time. Moreover, we populate these nodes with some basic properties:"
      ]
    },
    {
      "cell_type": "code",
      "metadata": {
        "id": "R-i9bLAcaEpD"
      },
      "source": [
        "H = nx.Graph()\n",
        "\n",
        "def H_add_nodes(H, G, time):\n",
        "  \n",
        "    for cc in sorted(nx.connected_components(G)):\n",
        "        for node in cc:\n",
        "            label = G.nodes[node]['component']\n",
        "            H.add_node((time, label))\n",
        "            \n",
        "            H.nodes[(time, label)]['pos'] = (time, label)\n",
        "            H.nodes[(time, label)]['time'] = time\n",
        "            H.nodes[(time, label)]['fault'] = G.nodes[node]['fault']\n",
        "            H.nodes[(time, label)]['component'] = G.nodes[node]['component']\n",
        "        \n",
        "            break\n",
        "    \n",
        "        G_cc = nx.subgraph(G, cc)\n",
        "        \n",
        "        H.nodes[(time, label)]['length'] = total_length(G_cc)\n",
        "        H.nodes[(time, label)]['displacement'] = max_value_nodes(G_cc, 'displacement')\n",
        "        \n",
        "    return H \n",
        "\n",
        "H = H_add_nodes(H, G_0, 0)\n",
        "H = H_add_nodes(H, G_1, 1)  "
      ],
      "execution_count": null,
      "outputs": []
    },
    {
      "cell_type": "markdown",
      "metadata": {
        "id": "y8RHDHzbdJq-"
      },
      "source": [
        "Let's look at H:"
      ]
    },
    {
      "cell_type": "code",
      "metadata": {
        "colab": {
          "base_uri": "https://localhost:8080/",
          "height": 463
        },
        "id": "davIgOIGeQHH",
        "outputId": "c1f1c300-6068-46c1-b26f-15a935cfd982"
      },
      "source": [
        "plt.figure(figsize=(3,6))\n",
        "nx.draw(H,\n",
        "        pos = nx.get_node_attributes(H, 'pos'),\n",
        "        labels=nx.get_node_attributes(H, 'fault'),\n",
        "        with_labels=True,\n",
        "        node_color = get_node_colors(H, 'fault'))"
      ],
      "execution_count": null,
      "outputs": []
    },
    {
      "cell_type": "markdown",
      "metadata": {
        "id": "pAtAJHJaiT5j"
      },
      "source": [
        "Alright, just some nodes corresponding to the components at time 0 and 1 labelled by the fault that they belong to.\n",
        "\n",
        "Now let's connect the components which belong to the same fault, i.e. have the same label in the above plot. For this purpose, we create a dictionary of the components belonging to each fault:"
      ]
    },
    {
      "cell_type": "code",
      "metadata": {
        "colab": {
          "base_uri": "https://localhost:8080/"
        },
        "id": "rqWi402ZiJST",
        "outputId": "40d03d62-e770-4a93-a3e4-1e9ec7e510b2"
      },
      "source": [
        "def get_dictionary(G):\n",
        "    faults = get_fault_labels(G)        \n",
        "    dic = {}\n",
        "    for fault in faults:\n",
        "        G_fault = get_fault(G, fault)\n",
        "        components = set()\n",
        "        for node in G_fault:\n",
        "            components.add(G_fault.nodes[node]['component'])\n",
        "        dic[fault] = sorted(list(components))\n",
        "    return dic\n",
        "\n",
        "\n",
        "dic_0 = get_dictionary(G_0)\n",
        "dic_1 = get_dictionary(G_1)\n",
        "\n",
        "print(dic_0)"
      ],
      "execution_count": null,
      "outputs": []
    },
    {
      "cell_type": "markdown",
      "metadata": {
        "id": "FPcJFeBJi7Dg"
      },
      "source": [
        "Now we compute the faults common between consecutive time steps:"
      ]
    },
    {
      "cell_type": "code",
      "metadata": {
        "id": "iYoa6UoXijU_"
      },
      "source": [
        "faults_0 = get_fault_labels(G_0)\n",
        "faults_1 = get_fault_labels(G_1)\n",
        "\n",
        "common_faults = list(set(faults_0).intersection(set(faults_1)))"
      ],
      "execution_count": null,
      "outputs": []
    },
    {
      "cell_type": "markdown",
      "metadata": {
        "id": "8kWmQyl6jSQ_"
      },
      "source": [
        "Next we loop through the common faults, get the components for time 0 (starts) and time 1 (ends) and connect the components. This is a bit complicated because we can have different numbers of components, e.g. sometimes the fault has only one component at time 0 (len(starts)==1) and one at time 1 (len(ends)==1), then we can simply add an edge, but if there are multiple components to each fault, we need add multiple edges:"
      ]
    },
    {
      "cell_type": "code",
      "metadata": {
        "id": "fuzyFl_oeeck"
      },
      "source": [
        "for fault in common_faults:\n",
        "    starts = dic_0[fault]\n",
        "    ends   = dic_1[fault]\n",
        "    if len(starts) == 1 and len(ends) == 1:\n",
        "        H.add_edge((time, starts[0]), (time+1, ends[0]))\n",
        "    elif len(starts) == 1 and len(ends) > 1:\n",
        "        for end in ends:\n",
        "            H.add_edge((time, starts[0]), (time+1, end))\n",
        "    elif len(starts) > 1 and len(ends) == 1:\n",
        "          for start in starts:\n",
        "            H.add_edge((time, start), (time+1, ends[0]))\n",
        "    elif len(starts) > 1 and len(ends) > 1:\n",
        "        if len(starts) == len(ends):\n",
        "            for start, end in zip(starts, ends):\n",
        "                H.add_edge((time, start), (time+1, end))\n",
        "        elif len(starts) < len(ends):\n",
        "            minimum = min(len(starts), len(ends))\n",
        "            difference = len(ends)-len(starts)\n",
        "            for n in range(minimum):\n",
        "                H.add_edge((time, starts[n]), (time+1, ends[n]))\n",
        "            for n in range(difference):\n",
        "                H.add_edge((time, starts[minimum-1]), (time+1, ends[minimum-1+n+1]))\n",
        "        elif len(starts) > len(ends):\n",
        "            minimum = min(len(starts), len(ends))\n",
        "            difference = len(starts)-len(ends)                \n",
        "            for n in range(minimum):\n",
        "                H.add_edge((time, starts[n]), (time+1, ends[n]))                \n",
        "            for n in range(difference):\n",
        "                H.add_edge((time, starts[minimum-1+n+1]), (time+1, ends[minimum-1])) "
      ],
      "execution_count": null,
      "outputs": []
    },
    {
      "cell_type": "markdown",
      "metadata": {
        "id": "j2BbwdJEkV96"
      },
      "source": [
        "Now let's look at the result:"
      ]
    },
    {
      "cell_type": "code",
      "metadata": {
        "colab": {
          "base_uri": "https://localhost:8080/",
          "height": 463
        },
        "id": "VPscHXmze1Xp",
        "outputId": "24483740-5b2f-4a9d-9743-629ca2563806"
      },
      "source": [
        "plt.figure(figsize=(3,6))\n",
        "nx.draw(H,\n",
        "        pos = nx.get_node_attributes(H, 'pos'),\n",
        "        labels=nx.get_node_attributes(H, 'fault'),\n",
        "        with_labels=True,\n",
        "        node_color = get_node_colors(H, 'fault'))"
      ],
      "execution_count": null,
      "outputs": []
    },
    {
      "cell_type": "markdown",
      "metadata": {
        "id": "pyHiWWaykfkt"
      },
      "source": [
        "Excellent! Let's do this for all time steps:"
      ]
    },
    {
      "cell_type": "code",
      "metadata": {
        "colab": {
          "base_uri": "https://localhost:8080/"
        },
        "id": "reHBCGVtfKCk",
        "outputId": "f171cff2-594b-400a-b05f-8b4d158bc0c3"
      },
      "source": [
        "H = nx.Graph()\n",
        "\n",
        "for time in tqdm(range(0, len(Gs)-1)):\n",
        "\n",
        "  G_0 = Gs[time]\n",
        "  G_1 = Gs[time+1]\n",
        "\n",
        "  if time == 0:\n",
        "    H = H_add_nodes(H, G_0, time)  \n",
        "  H = H_add_nodes(H, G_1, time+1)  \n",
        "\n",
        "  faults_0 = get_fault_labels(G_0)\n",
        "  faults_1 = get_fault_labels(G_1) \n",
        "\n",
        "  dic_0 = get_dictionary(G_0)\n",
        "  dic_1 = get_dictionary(G_1)\n",
        "          \n",
        "  \n",
        "  faults = list(set(faults_0).intersection(set(faults_1)))\n",
        "\n",
        "\n",
        "  for fault in faults:\n",
        "      starts = dic_0[fault]\n",
        "      ends   = dic_1[fault]\n",
        "      if len(starts) == 1 and len(ends) == 1:\n",
        "          H.add_edge((time, starts[0]), (time+1, ends[0]))\n",
        "      elif len(starts) == 1 and len(ends) > 1:\n",
        "          for end in ends:\n",
        "              H.add_edge((time, starts[0]), (time+1, end))\n",
        "      elif len(starts) > 1 and len(ends) == 1:\n",
        "            for start in starts:\n",
        "              H.add_edge((time, start), (time+1, ends[0]))\n",
        "      elif len(starts) > 1 and len(ends) > 1:\n",
        "          if len(starts) == len(ends):\n",
        "              for start, end in zip(starts, ends):\n",
        "                  H.add_edge((time, start), (time+1, end))\n",
        "          elif len(starts) < len(ends):\n",
        "              minimum = min(len(starts), len(ends))\n",
        "              difference = len(ends)-len(starts)\n",
        "              for n in range(minimum):\n",
        "                  H.add_edge((time, starts[n]), (time+1, ends[n]))\n",
        "              for n in range(difference):\n",
        "                  H.add_edge((time, starts[minimum-1]), (time+1, ends[minimum-1+n+1]))\n",
        "          elif len(starts) > len(ends):\n",
        "              minimum = min(len(starts), len(ends))\n",
        "              difference = len(starts)-len(ends)                \n",
        "              for n in range(minimum):\n",
        "                  H.add_edge((time, starts[n]), (time+1, ends[n]))                \n",
        "              for n in range(difference):\n",
        "                  H.add_edge((time, starts[minimum-1+n+1]), (time+1, ends[minimum-1]))     "
      ],
      "execution_count": null,
      "outputs": []
    },
    {
      "cell_type": "code",
      "metadata": {
        "colab": {
          "base_uri": "https://localhost:8080/",
          "height": 606
        },
        "id": "qzHY8y9nhHal",
        "outputId": "340bfaba-77f3-4189-eb5c-140f9b8dcbdb"
      },
      "source": [
        "plt.figure(figsize=(18,8))\n",
        "nx.draw(H,\n",
        "        pos = nx.get_node_attributes(H, 'pos'),\n",
        "        labels=nx.get_node_attributes(H, 'fault'),\n",
        "        with_labels=True,\n",
        "        node_color = get_node_colors(H, 'fault'))"
      ],
      "execution_count": null,
      "outputs": []
    },
    {
      "cell_type": "markdown",
      "metadata": {
        "id": "a-E9mwKodyBr"
      },
      "source": [
        "Now we start to get a grasp of the complexity involved in the evolution of the fault system. Let's just check out one fault:"
      ]
    },
    {
      "cell_type": "code",
      "metadata": {
        "colab": {
          "base_uri": "https://localhost:8080/",
          "height": 465
        },
        "id": "ufreWiUQeHGz",
        "outputId": "5c9e9dc1-4441-48ca-a030-62e77d9646a7"
      },
      "source": [
        "fault = 10\n",
        "\n",
        "H_sub = nx.subgraph(H, [node for node in H if H.nodes[node]['fault']==fault])\n",
        "\n",
        "fig, ax = plt.subplots(figsize=(18,8))\n",
        "nx.draw(H_sub,\n",
        "        pos = nx.get_node_attributes(H_sub, 'pos'),\n",
        "        labels=nx.get_node_attributes(H_sub, 'time'),\n",
        "        with_labels=True,\n",
        "        node_color = get_node_colors(H_sub, 'fault'),\n",
        "        ax=ax)\n",
        "plt.show()"
      ],
      "execution_count": null,
      "outputs": []
    },
    {
      "cell_type": "markdown",
      "metadata": {
        "id": "5BSvySKKehsZ"
      },
      "source": [
        "Now we can see how the fault splits in two segments at time 12 and then merges again into one at time 13 and much more...\n",
        "\n",
        "For example, we can use the H-graph to plot the evolution of fault properties, such as length and displacement through time:"
      ]
    },
    {
      "cell_type": "code",
      "metadata": {
        "colab": {
          "base_uri": "https://localhost:8080/",
          "height": 696
        },
        "id": "ULyrsL2DDOdF",
        "outputId": "a472b57a-6d11-4c7c-d87c-4b347e0c9b70"
      },
      "source": [
        "fault = 10\n",
        "attribute_0 = 'length'\n",
        "attribute_1 = 'displacement'\n",
        "\n",
        "H_sub = nx.subgraph(H, [node for node in H if H.nodes[node]['fault']==fault])\n",
        "\n",
        "fig, ax = plt.subplots(figsize=(12,12))\n",
        "nx.draw(H_sub,\n",
        "        pos = dict(zip([node for node in H_sub], [(H_sub.nodes[node][attribute_0], H_sub.nodes[node][attribute_1]) for node in H_sub])),\n",
        "        labels=nx.get_node_attributes(H_sub, 'time'),\n",
        "        with_labels=True,\n",
        "        node_color = get_node_colors(H_sub, 'fault'),\n",
        "        ax=ax)\n",
        "ax.set_xlabel('Length')\n",
        "ax.set_ylabel('Displacement')\n",
        "ax.axis('on')\n",
        "plt.show()"
      ],
      "execution_count": null,
      "outputs": []
    },
    {
      "cell_type": "markdown",
      "metadata": {
        "id": "hx8YUFXIfrWK"
      },
      "source": [
        "We can see how the fault grows sometimes in length and sometimes in displacement, how it captures smaller segements (time 12) and how it dies out (time >30) becoming shorter and shorter.\n",
        "\n",
        "And we can plot these properties for all faults in the system:"
      ]
    },
    {
      "cell_type": "code",
      "metadata": {
        "colab": {
          "base_uri": "https://localhost:8080/",
          "height": 696
        },
        "id": "ZclKDOlmDGGT",
        "outputId": "580ac269-7d40-40f3-d87d-061b7a469d7f"
      },
      "source": [
        "attribute_0 = 'length'\n",
        "attribute_1 = 'displacement'\n",
        "\n",
        "fig, ax = plt.subplots(figsize=(12,12))\n",
        "nx.draw(H,\n",
        "        pos = dict(zip([node for node in H], [(H.nodes[node][attribute_0], H.nodes[node][attribute_1]) for node in H])),\n",
        "        labels=nx.get_node_attributes(H, 'fault'),\n",
        "        with_labels=True,\n",
        "        node_color = get_node_colors(H, 'fault'),\n",
        "        ax=ax)\n",
        "ax.set_xlabel('Length')\n",
        "ax.set_ylabel('Displacement')\n",
        "ax.axis('on')\n",
        "plt.show()"
      ],
      "execution_count": null,
      "outputs": []
    },
    {
      "cell_type": "markdown",
      "metadata": {
        "id": "Y1yPw6LHgavD"
      },
      "source": [
        "Last, we want to capture these processes in Sankey-type diagram, where the edge width of our graph H shows a fault property, e.g. displacement:"
      ]
    },
    {
      "cell_type": "code",
      "metadata": {
        "colab": {
          "base_uri": "https://localhost:8080/",
          "height": 483
        },
        "id": "_dbLedwZFrao",
        "outputId": "27b18acd-7455-4209-dd80-59eb64805c95"
      },
      "source": [
        "attribute = 'displacement'\n",
        "factor= 0.00001\n",
        "width = dict(zip([node for node in H], [H.nodes[node][attribute]*factor for node in H]))\n",
        "\n",
        "fig, ax = plt.subplots(figsize=(16,8))\n",
        "\n",
        "plot_width(H, ax, width, tips=False)"
      ],
      "execution_count": null,
      "outputs": []
    },
    {
      "cell_type": "markdown",
      "metadata": {
        "id": "lcb2dLF-hHlr"
      },
      "source": [
        "Check this out! The long-lived blue line which thickens with time is fault 10, which we can track throughout our model run:"
      ]
    },
    {
      "cell_type": "code",
      "metadata": {
        "colab": {
          "base_uri": "https://localhost:8080/",
          "height": 301,
          "referenced_widgets": [
            "9ae1c9706703492499e72ae0072d64d5",
            "d3f6343200114b24ae02e40f5e60be03",
            "b161abaf6b974756bf76f2f6ca01a93a",
            "108924c4b4a546e6b3693c8865743980",
            "97c69b7ce5c84a419244bb353f6a2b9a",
            "d1efa8df29774b9ebda01bb8ae0e2287",
            "a6324a7457ae4d09b387f7e0edbaff85"
          ]
        },
        "id": "fA75wRgwF7oS",
        "outputId": "d1cb1869-de99-423a-e88e-4f4120ff1422"
      },
      "source": [
        "%matplotlib inline\n",
        "from ipywidgets import interactive, widgets, Layout\n",
        "\n",
        "\n",
        "def f(time):\n",
        "    fig, ax = plt.subplots(figsize=(16,4))\n",
        "    plot_faults(Gs[time], ax, label=True)\n",
        "    plt.xlim([1000, 3500])\n",
        "    plt.ylim([600, 0])\n",
        "    plt.show()\n",
        "\n",
        "interactive_plot = interactive(f, time=widgets.IntSlider(min=3, max=49, step=1, layout=Layout(width='900px')))\n",
        "output = interactive_plot.children[-1]\n",
        "output.layout.width = '1000px'\n",
        "interactive_plot"
      ],
      "execution_count": null,
      "outputs": []
    },
    {
      "cell_type": "code",
      "metadata": {
        "id": "WE92uy-EhSV4"
      },
      "source": [],
      "execution_count": null,
      "outputs": []
    }
  ]
}