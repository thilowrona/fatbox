{
  "nbformat": 4,
  "nbformat_minor": 0,
  "metadata": {
    "colab": {
      "name": "3-time_stepping.ipynb",
      "provenance": [],
      "collapsed_sections": [],
      "toc_visible": true
    },
    "kernelspec": {
      "name": "python38264bit102463ac686041a695987f2a94c796d4",
      "display_name": "Python 3.8.6 64-bit"
    },
    "widgets": {
      "application/vnd.jupyter.widget-state+json": {
        "f76598b67a9744b88df456f5b39a93c2": {
          "model_module": "@jupyter-widgets/controls",
          "model_name": "VBoxModel",
          "state": {
            "_view_name": "VBoxView",
            "_dom_classes": [
              "widget-interact"
            ],
            "_model_name": "VBoxModel",
            "_view_module": "@jupyter-widgets/controls",
            "_model_module_version": "1.5.0",
            "_view_count": null,
            "_view_module_version": "1.5.0",
            "box_style": "",
            "layout": "IPY_MODEL_621a582c4684429aa7c1d5e56420628f",
            "_model_module": "@jupyter-widgets/controls",
            "children": [
              "IPY_MODEL_90dd377370d34f3e8e44b40a49d10bef",
              "IPY_MODEL_bdca1f4c0aa94e9c8297be05d1d26043"
            ]
          }
        },
        "621a582c4684429aa7c1d5e56420628f": {
          "model_module": "@jupyter-widgets/base",
          "model_name": "LayoutModel",
          "state": {
            "_view_name": "LayoutView",
            "grid_template_rows": null,
            "right": null,
            "justify_content": null,
            "_view_module": "@jupyter-widgets/base",
            "overflow": null,
            "_model_module_version": "1.2.0",
            "_view_count": null,
            "flex_flow": null,
            "width": null,
            "min_width": null,
            "border": null,
            "align_items": null,
            "bottom": null,
            "_model_module": "@jupyter-widgets/base",
            "top": null,
            "grid_column": null,
            "overflow_y": null,
            "overflow_x": null,
            "grid_auto_flow": null,
            "grid_area": null,
            "grid_template_columns": null,
            "flex": null,
            "_model_name": "LayoutModel",
            "justify_items": null,
            "grid_row": null,
            "max_height": null,
            "align_content": null,
            "visibility": null,
            "align_self": null,
            "height": null,
            "min_height": null,
            "padding": null,
            "grid_auto_rows": null,
            "grid_gap": null,
            "max_width": null,
            "order": null,
            "_view_module_version": "1.2.0",
            "grid_template_areas": null,
            "object_position": null,
            "object_fit": null,
            "grid_auto_columns": null,
            "margin": null,
            "display": null,
            "left": null
          }
        },
        "90dd377370d34f3e8e44b40a49d10bef": {
          "model_module": "@jupyter-widgets/controls",
          "model_name": "IntSliderModel",
          "state": {
            "_view_name": "IntSliderView",
            "style": "IPY_MODEL_2bca9ff4e05c45eb99dffabfc6c15f5e",
            "_dom_classes": [],
            "description": "time",
            "step": 1,
            "_model_name": "IntSliderModel",
            "orientation": "horizontal",
            "max": 49,
            "_view_module": "@jupyter-widgets/controls",
            "_model_module_version": "1.5.0",
            "value": 3,
            "_view_count": null,
            "disabled": false,
            "_view_module_version": "1.5.0",
            "min": 3,
            "continuous_update": true,
            "readout_format": "d",
            "description_tooltip": null,
            "readout": true,
            "_model_module": "@jupyter-widgets/controls",
            "layout": "IPY_MODEL_b458ed04e8624de496361fc7dfcd3a6c"
          }
        },
        "bdca1f4c0aa94e9c8297be05d1d26043": {
          "model_module": "@jupyter-widgets/output",
          "model_name": "OutputModel",
          "state": {
            "_view_name": "OutputView",
            "msg_id": "",
            "_dom_classes": [],
            "_model_name": "OutputModel",
            "outputs": [
              {
                "output_type": "display_data",
                "metadata": {
                  "tags": []
                },
                "image/png": "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\n",
                "text/plain": "<Figure size 1152x288 with 1 Axes>"
              }
            ],
            "_view_module": "@jupyter-widgets/output",
            "_model_module_version": "1.0.0",
            "_view_count": null,
            "_view_module_version": "1.0.0",
            "layout": "IPY_MODEL_0a99318d91a448bd9c12f96e73e2a055",
            "_model_module": "@jupyter-widgets/output"
          }
        },
        "2bca9ff4e05c45eb99dffabfc6c15f5e": {
          "model_module": "@jupyter-widgets/controls",
          "model_name": "SliderStyleModel",
          "state": {
            "_view_name": "StyleView",
            "handle_color": null,
            "_model_name": "SliderStyleModel",
            "description_width": "",
            "_view_module": "@jupyter-widgets/base",
            "_model_module_version": "1.5.0",
            "_view_count": null,
            "_view_module_version": "1.2.0",
            "_model_module": "@jupyter-widgets/controls"
          }
        },
        "b458ed04e8624de496361fc7dfcd3a6c": {
          "model_module": "@jupyter-widgets/base",
          "model_name": "LayoutModel",
          "state": {
            "_view_name": "LayoutView",
            "grid_template_rows": null,
            "right": null,
            "justify_content": null,
            "_view_module": "@jupyter-widgets/base",
            "overflow": null,
            "_model_module_version": "1.2.0",
            "_view_count": null,
            "flex_flow": null,
            "width": "900px",
            "min_width": null,
            "border": null,
            "align_items": null,
            "bottom": null,
            "_model_module": "@jupyter-widgets/base",
            "top": null,
            "grid_column": null,
            "overflow_y": null,
            "overflow_x": null,
            "grid_auto_flow": null,
            "grid_area": null,
            "grid_template_columns": null,
            "flex": null,
            "_model_name": "LayoutModel",
            "justify_items": null,
            "grid_row": null,
            "max_height": null,
            "align_content": null,
            "visibility": null,
            "align_self": null,
            "height": null,
            "min_height": null,
            "padding": null,
            "grid_auto_rows": null,
            "grid_gap": null,
            "max_width": null,
            "order": null,
            "_view_module_version": "1.2.0",
            "grid_template_areas": null,
            "object_position": null,
            "object_fit": null,
            "grid_auto_columns": null,
            "margin": null,
            "display": null,
            "left": null
          }
        },
        "0a99318d91a448bd9c12f96e73e2a055": {
          "model_module": "@jupyter-widgets/base",
          "model_name": "LayoutModel",
          "state": {
            "_view_name": "LayoutView",
            "grid_template_rows": null,
            "right": null,
            "justify_content": null,
            "_view_module": "@jupyter-widgets/base",
            "overflow": null,
            "_model_module_version": "1.2.0",
            "_view_count": null,
            "flex_flow": null,
            "width": "1000px",
            "min_width": null,
            "border": null,
            "align_items": null,
            "bottom": null,
            "_model_module": "@jupyter-widgets/base",
            "top": null,
            "grid_column": null,
            "overflow_y": null,
            "overflow_x": null,
            "grid_auto_flow": null,
            "grid_area": null,
            "grid_template_columns": null,
            "flex": null,
            "_model_name": "LayoutModel",
            "justify_items": null,
            "grid_row": null,
            "max_height": null,
            "align_content": null,
            "visibility": null,
            "align_self": null,
            "height": null,
            "min_height": null,
            "padding": null,
            "grid_auto_rows": null,
            "grid_gap": null,
            "max_width": null,
            "order": null,
            "_view_module_version": "1.2.0",
            "grid_template_areas": null,
            "object_position": null,
            "object_fit": null,
            "grid_auto_columns": null,
            "margin": null,
            "display": null,
            "left": null
          }
        },
        "53e0a53d1bca4d44b7e86541a9bba734": {
          "model_module": "@jupyter-widgets/controls",
          "model_name": "VBoxModel",
          "state": {
            "_view_name": "VBoxView",
            "_dom_classes": [
              "widget-interact"
            ],
            "_model_name": "VBoxModel",
            "_view_module": "@jupyter-widgets/controls",
            "_model_module_version": "1.5.0",
            "_view_count": null,
            "_view_module_version": "1.5.0",
            "box_style": "",
            "layout": "IPY_MODEL_e528505ba2ea404693c3d16240c97a64",
            "_model_module": "@jupyter-widgets/controls",
            "children": [
              "IPY_MODEL_ae3770043c6a48b3b0c270245fe3dff0",
              "IPY_MODEL_3a2c57baac0548299ec861b41943e665"
            ]
          }
        },
        "e528505ba2ea404693c3d16240c97a64": {
          "model_module": "@jupyter-widgets/base",
          "model_name": "LayoutModel",
          "state": {
            "_view_name": "LayoutView",
            "grid_template_rows": null,
            "right": null,
            "justify_content": null,
            "_view_module": "@jupyter-widgets/base",
            "overflow": null,
            "_model_module_version": "1.2.0",
            "_view_count": null,
            "flex_flow": null,
            "width": null,
            "min_width": null,
            "border": null,
            "align_items": null,
            "bottom": null,
            "_model_module": "@jupyter-widgets/base",
            "top": null,
            "grid_column": null,
            "overflow_y": null,
            "overflow_x": null,
            "grid_auto_flow": null,
            "grid_area": null,
            "grid_template_columns": null,
            "flex": null,
            "_model_name": "LayoutModel",
            "justify_items": null,
            "grid_row": null,
            "max_height": null,
            "align_content": null,
            "visibility": null,
            "align_self": null,
            "height": null,
            "min_height": null,
            "padding": null,
            "grid_auto_rows": null,
            "grid_gap": null,
            "max_width": null,
            "order": null,
            "_view_module_version": "1.2.0",
            "grid_template_areas": null,
            "object_position": null,
            "object_fit": null,
            "grid_auto_columns": null,
            "margin": null,
            "display": null,
            "left": null
          }
        },
        "ae3770043c6a48b3b0c270245fe3dff0": {
          "model_module": "@jupyter-widgets/controls",
          "model_name": "IntSliderModel",
          "state": {
            "_view_name": "IntSliderView",
            "style": "IPY_MODEL_fc6f32163e4b47e98c21af6ad08191f4",
            "_dom_classes": [],
            "description": "time",
            "step": 1,
            "_model_name": "IntSliderModel",
            "orientation": "horizontal",
            "max": 49,
            "_view_module": "@jupyter-widgets/controls",
            "_model_module_version": "1.5.0",
            "value": 13,
            "_view_count": null,
            "disabled": false,
            "_view_module_version": "1.5.0",
            "min": 3,
            "continuous_update": true,
            "readout_format": "d",
            "description_tooltip": null,
            "readout": true,
            "_model_module": "@jupyter-widgets/controls",
            "layout": "IPY_MODEL_0412fc87ca144e8e854fd063e16b305e"
          }
        },
        "3a2c57baac0548299ec861b41943e665": {
          "model_module": "@jupyter-widgets/output",
          "model_name": "OutputModel",
          "state": {
            "_view_name": "OutputView",
            "msg_id": "",
            "_dom_classes": [],
            "_model_name": "OutputModel",
            "outputs": [
              {
                "output_type": "display_data",
                "metadata": {
                  "tags": []
                },
                "image/png": "iVBORw0KGgoAAAANSUhEUgAAA6UAAAD8CAYAAACPSALkAAAABHNCSVQICAgIfAhkiAAAAAlwSFlzAAALEgAACxIB0t1+/AAAADh0RVh0U29mdHdhcmUAbWF0cGxvdGxpYiB2ZXJzaW9uMy4yLjIsIGh0dHA6Ly9tYXRwbG90bGliLm9yZy+WH4yJAAAgAElEQVR4nOzdeXQUVd7/8Xd1ZyckhB2SsAbCvgYCssgiAlFABWVRBEFxGUcGnBF1HH3UEZBH/YkKoygCOg6oOAgqIAgiENbIDoIJEklCyJ4A2bu7fn9EozwgJKSTTsLndQ7nTFfVvfdbnjlJPl331jVM0zQRERERERERcQGLqwsQERERERGR65dCqYiIiIiIiLiMQqmIiIiIiIi4jEKpiIiIiIiIuIxCqYiIiIiIiLiMQqmIiIiIiIi4TLmE0vXr1xMaGkpISAhz584tjyFERERERESkGjCcvU+p3W6ndevWbNy4kaCgIHr06MHy5ctp166dM4cRERERERGRasDpT0r37NlDSEgILVq0wMPDg3HjxrF69WpnDyMiIiIiIiLVgJuzO0xISCA4OLj4c1BQELt3777kukWLFrFo0SIAjh8/Tps2bZxdioiIiIiIiFQCsbGxpKamXvac00NpSU2bNo1p06YBEBYWRlRUlKtKERERERERkXIUFhb2h+ecPn03MDCQuLi44s/x8fEEBgY6exgRERERERGpBpweSnv06EF0dDSnTp2ioKCAFStWMHLkSGcPIyIiIiIiItWA06fvurm58dZbbzF06FDsdjtTpkyhffv2zh5GREREREREqoFyWVMaERFBREREeXQtIiIiIiIi1YjTp++KiIiIiIiIlJRCqYiIiIiIiLiMQqmIiIiIiIi4jEKpiIiIiIiIuIxCqYiIiIiIiLiMQqmIiIiIiIi4jEKpiIiIiIiIuIxCqYiIiIiIiLiMQqmIiIiIiIi4jEKpiIiIiIiIuIxCqYiIiIiIiLiMQqmIiIiIiIi4jEKpiIiIiIiIuIxCqYiIiIiIiLiMQqmIiIiIiIi4jEKpiIiIiIiIuIxCqYiIiIiIiLiMQqmIiIiIiIi4jEKpiIiIiIiIuIxCqYiIiIiIiLiMQqmIiIiIiIi4jEKpiIiIiIiIuIxCqYiIiIiIiLiMQqmIiIiIiIi4jEKpiAiw68wuRnw2giOpR1xdioiIiMh1RaFURASIPBNJ7IVYxn85nsMph11djohUAx/Ep9B5+xG+Sc1ydSkiIpWaQqmICDCj2wwaezUGAyZ8NYHojGhXlyQiVdi29HM88WM8SYU2nt/4navLERGp1K4aSqdMmUL9+vXp0KFD8bH09HSGDBlCq1atGDJkCBkZGQCYpsljjz1GSEgInTp1Yt++feVXuYiIE1ksFtbduY5abrXAgDErx3Au/5yryxKRKmrKoZ/AMGjuYWXz2BGuLkdEpFK7aiidPHky69evv+jY3LlzGTx4MNHR0QwePJi5c+cCsG7dOqKjo4mOjmbRokU8/PDD5VO1iEg5sFgsfDLqEwAcHg76rOjDweSDpe7n9LnTPL/zee5YcwedP+jMfevvu+h8Sk4Kr0a9yug1o+n5UU9u+vQm/r797yTnJDvlPkSkbOz5+ZwYcjM/3ngj9nOl/3Lq+R9Pc94ETJOPu7XG3WI4v0gRkWrkqqG0f//+1K5d+6Jjq1evZtKkSQBMmjSJzz//vPj4vffei2EY9OrVi8zMTBITE8uhbBGR8tHItxGrRq7Cw/AA4J6197Dqx1Wl6iMmM4Zt8dto5teMpn5NLzl/LO0Ym05vYnjz4bw16C0eD3ucQymHmLh2IjmFOU65DxG5vHPrvyZ23Hh+DO/F8U6dOTlsOKn/+hdmQUHxNScjbsERF4c9KbnUodTmMHk7IQ2AaUF1aeLt6dT6L8fhKGT/gckkJHxc7mOJiJQHt2tplJSURKNGjQBo2LAhSUlJACQkJBAcHFx8XVBQEAkJCcXXiohUBSEBIey5Zw8Rn0ZwJu8Mz+58liWHl7Bi5Ap83H2u2n5A8AAGNRkEwMwtM8nIy7jofNcGXVlz2xrcLL/9CG5buy0jPh/Bxp83MipklHNvSESK2TMz8ekVTu2pU7DW9CP38CFS31qALSWVBk8/xfE+fSErCxNo+p+P8AgKKlX/Uw9EY2KAw85zrUrX9lqdO3eY9PRtpKRso3HjuzAMPZkVkarlmkLp7xmGcU0//BYtWsSiRYsASElJKWsZIiJOZbVYWXfnOh7d9CjbErZx6sIpwv8TzvO9n+eO1ndcsa3FuPIkFD8Pv0uONfNvhrebNym5+nkoUp4Cxo296HONXuE4LmST8Z//kJuSUhxI6/xlOjW6dStV3wl5BXydmQ3AgBP7sA7u7qyyr6hGjdYAWCxQUJCCp2f9ChlXRMRZruntuw0aNCielpuYmEj9+kU//AIDA4mLiyu+Lj4+nsDAwMv2MW3aNKKiooiKiqJevXrXUoaISLmyWCwsHLKQpcOW4vbLd3jP7XyOqWunOn2sE+knyLXlXna6r4iUL2utWjhycsjbuBETiOrahQYPPVSqPgodJgN3HgPDwCM/jxWPPFA+xV5GXl4cpgmGAcYvSw9ERKqSawqlI0eOZNmyZQAsW7aMUaNGFR//4IMPME2TXbt24e/vr6m7IlLldW/YnX337qNf435gwp6UPYxeNZrswmyn9O8wHby892Wa+jVlQPAAp/QpIldm2u04cnPJ+f57Ut58E+z2oiekjz3GvcuXl7q/qQdjOAfgcLDlxtI9YS2r/QemYRjg5lYPD49aFTq2iIgzXDWUjh8/nt69e3PixAmCgoJYvHgxTz75JBs3bqRVq1Z88803PPnkkwBERETQokULQkJCeOCBB1i4cGG534CISEUwDIOFQxYyu+9sMOHHcz/S+z+9WXtybZn7fn3f6xxMPsjsvrNxt7g7oVoRuZoTXbtxoms3fr77HsycHEyg7mOP0eCR0u8ccCgrmw0ZFwDoG32IFj7l/3Kj3yssPINpQvduH1bouCIiznLVNaXL/+Dbwk2bNl1yzDAMFixYUPaqREQqqREhIwjwDODhjQ9jWk1mbZvFewff48NbP6SGR41S97fi+AqWHlnKvP7z6FSvUzlULCKXU/fxmSTPmYsBmIBXx47Uv4ZA6nA4uHVfdNGepO4WVj402dmlXlFOTtHUXQBf31YVOraIiLNc0/RdEZHrWd/gvkRNiqJ73aKXmESfj6b38t78mP5jqfrZ+PNG5uyZw8zuMxnWfFh5lCoi/4dpt5P0yqvFgRR/f+o8+CD5hw9TcPp0qfqyOxyEbz9EAYBpsrFXu3Ko+Mr27Z+KYUB+fpnfXSki4jIKpSIi18DT6snSW5by/tD3sWLFxGT0F6N56/u3StR+79m9PLn1SSa0mcDkDpPLt1gRAYq2gznWtRvp772HAVhCQ2mzayf+t0QAUBgfX6r+xh88SZwdME3Wd2+Nr1vFBkPTtJOffxLThN693q/QsUVEnEmhVESkDHo06sGeu/fQyLvopW7vHH6HwcsHs+6ndWyI3UBSThIZeRlsiN3AhtgN5Npy+SnzJ6Zvnk5z/+YMbTaUgykHi//FnYu7yogiUlqmaZK88F+c6NUbS0EBduB4SEtaf74KwzDI3bcfAPdS7En6xqlEtv6yjvTNtk3o4l/66ftldfjI3wAwTahdu0+Fjy8i4iyGaf66EsF1wsLCiIqKcnUZIiJlMnvHbJb/uByusHXz+tHr2Xt2L/+I/Mdlz49sOZKX+r5UThWKXH9M0+TEyFGY0dEAOID6f/4z3h07gMVK7r59pC1dSs0BNxL42msl6vPNU4m8dOosGAaj69RkQaeW5XgHl2e357Plu6Lpws2bP06L5o9UeA0iIqVxpcynUCoi4kQ/pP3AXV/eBUBd97p8dedX+Lj7uLgqkeuTaZqcuO12zBMnMIGaw4fhGRTEhS1bKEg4g2G14h4cRK3b7yBg3FgM99/efn0qJ5+FcclEZWVzIjuP8Fo1WNW1FW/EnmH2T0lgGIwI8KWGpwfrU7MoME3C/Wswu1UQzSvg7btpaZHsP3AvpglDbjpZ7uOJiJTVlTKfVsWLiDhR2zptWTliJWO+GENqYSrh/wnn41s+pl3din8Bisj1LD8unp9GjoTcXEwg+L13qdm3LwD1H3/8qu1PZOexKe0c3fx8sP3y/f0bp84w+1RRIL2zji8pDoO96ed5sVUgfm5W/l9sEmMOxLClZxtqulnL8/b46dQbGAZkZGgllohUffpJJiLiZKG1Q/n01k9xp+ipy9ivxnIs5ZiLqxK5fhTExxMzdOhlA2lJ3VzXj303tOe9Ds1pXcOLhNyC3wJp3ZpMatqILRnnebNtE+5sWJuhdf35sFNz0gttfHgmrXxu7Bd2ey7nzn0PwPnzoeU6lohIRVAoFREpB23qtGHvxL009GwIwNi1Y3l267Murkqk+svet4/om4ZgcThw+PrSakdkqQMpgMX4bXH4yew8TucV/LKG1Jc3O7bkyIVc3A2DGwJ8i6+r5+FOO19vvkk755R7uRybLYct3/WiaHdVK5MnrSq3sUREKoqm74qIlBOrxcr6u9Zzy6e3kJCbwKpTq7Cbdl66US8yEikPZ998k/QFC7EAjpo1abv1Oyze3mXq841TZzienQeGwR11fVnQMQSAfIcDqwFW4+I3m7kbBtE5eWUa81c5ObH8fPpdzmXt50J2NLVq9SAr6zhwAdO00OeGLRQWZnDy5Cukp2/HZj+Pt3czmja5n4YNRzmlBhGRiqAnpSIi5chqsbJ+7Hr+1OVPYMKa2DUM+WQIeYXO+aNVRMC024kZdRvpCxYCYG3ahLbbtpY5kL75U2LxlN26blYW/hJIAZp7e5LnMPnhQm7xsVy7gxPZeWQW2ss07q+ys6NJS9uCj08LfHyaU1CQgmlmYZrQ54YteHk15OChaWRk7iEkZBadOr6Nv38Xjh6bSXLy106pQUSkIiiUiohUgIe6PMSjnR8F4GzuWfov7889X93DN7HfuLgykarNtNs5PnAQhSdOYAA1x4yh9ddfY/HyKlO/OzPO8VJs0bYvgR5WWvle3N+A2jVp4uXB307EEZOTR1J+IU/8GMc5ux3LFbaFKo26dQfTt08kHTu+hZdXINnZPwFQu3ZfvL0Dyck5xfnzh2nd+h80bDiK2rX70Cb0RWr6ticp+UvnFCEiUgEUSkVEKsiDXR9k5YiVGBjkmrkcTD3IjO9muLoskSor5+hRjnfoCMnJOICgJe8T/M8Xy9zvmbwCRu8/CYZBay83uvj7XnKNh8XC2+2bklJgo+/u43TecZTTuQXc2aA29TycszrKMIr+TDNNk/T0HRgG5OW506Xz+78ctwHgZq15UTs3t4s/i4hUdgqlIiIVKLR2KOvvWF/82T3PHbvDOVP9RK4ncS+8QOzoMWCaYBg0//RTavbuXeZ+E3LzCdtxBIdhUAOTdT3a/uG13fxqsKtXW7aHt2FXr7as7taK1EIb3f1qlLmO34uOeRmwYZpw6GAEFkvRdjM1arTGz68LP516nZycU9hs5zmTuJLMrH0ENh7v1BpERMqTXnQkIlLBGtdszFM9n2LO7jkUehXS56M+fDf+OzzdPEvU/vS50yw5uoSDKQc5mXmSbvW7sWTYkuLzKTkpfHDsA3ac2UHc+Tj8PPwIbxTO9G7Tqe9Tv7xuS6RCOPLziR4egePMGQAyvL3pHbUXw1r2fUETcvPpsfMoDsNCDUwO9++Ez1X6NQyDEJ+iqb0/5eSzLeM8H3RsUeZafpWdHcvp0+8CkJfnw1NPvXbR2F06v8+hQw+yc9dNvxxzp13bl6ld+wan1SAiUt4USkVEXGBC2wnY7Xbm7Z1HNtncuPxGtozfgpfb1dfBxWTGsC1+G53qdcLmsF1y/ljaMTad3sQdre6gU91OpOWlsfDAQiaunciqUavwcfcpj1sSqRCnp03DceYMJlD7T4/Q7s9/dkq/CXkF9PxdIN17Qwc2pZ0H4Gx+IedtDr5IzgRgcB0/fKwWXos9S4iPF7XdrRzPzuO12LOMql+LG2s7Z/qsaZrs2j0UwwCbzaBRo47/57yDY8f+SqEtkw7t38DDow6paVv44fiTuLvXok6dG51Sh4hIeVMoFRFxkYkdJjKo6SAi/htBtiObT058wr3t771quwHBAxjUZBAAM7fMJCMv46LzXRt0Zc1ta3Cz/PYjvm3ttoz4fAQbf97IqBBtFSFVl2/ffuSfjqPJvxbi3aaNU/o8k5dPzx1HsRsWfH95QppSYOOBo7EXXffr5z292tLE25OMQhvPRieQXmijsZc7DwfX5+Fg581G2Lf/PqDoi6eGDYdgs2VddD41dTOpaZvp3esbfHyaAxAQ0Iv8vERiYl5WKBWRKkOhVETEhQJrBrJ+9HqWHVvGsObDStTGYlz5dQB+Hn6XHGvm3wxvN29SclOuqU6RyqLuA/dT94H7ndZfSn4hPX4XSA/264S31UoTbytnB3a5YtsXWwXxYqsgp9Xye3l5qWRmbgOgTZs5pKV9d8k1OTknsVi8iwPpr2rWbEdK6qZyqUtEpDzoRUciIi7WyLcRT/Z8slzXe55IP0GuLZemfk3LbQyRqihizzHshgVPTA7270QNt7KvTS2rgoJMIiP7AGCx+BHY+K7LXuflFYjDkVu8Vcyvzp0/grd3+YRlEZHyoCelIiLVnMN08PLel2nq15QBwQNcXY5IpWCaJkN3HSXOZoJpsiasNTWc8LIkZ9i9ZzQYNsCN0NBnSEpeR35+Enb7BZKS1wFQt84A6tQZgJdnYw4dfojmzR79ZU3ptyQnryW09fOuvQkRkVJQKBURqeZe3/c6B5MPsmTYEtwt7q4uRwSAc+u/Jn3pUgpOncKRm4t748b4jxpJnalTMTw8ynVs0zQZsusoR/JsYJp80Kk5nZ28jcu1SkvfRUFBLKYJHTu8zpGjj150/siRos839P4Ob+8gunb9kJMnXyE6Zg52+wW8vZsQGvqitoQRkSpFoVREpBIzTZMjqUdoWKMh9Xzqlbr9iuMrWHpkKfP6z6NTvU7lUKHItbFnZuLTK5zaU6dgrelH7uFDpL61gMKkZALGjcMztDWGYZTL2EN/F0iXdGzOzXVrlcs4pWWzZXPgwAMAeHo2pEGD4TRocPKKbXx8mtGx41sVUZ6ISLlRKBURqcTePfQubx54E0y4vdXtPH/D8yX+Q33jzxuZs2cOM7vPLPFLlEQqSsC4sRd9rtErHMeFbNIWLSJzxQrqPPIw9R97zOnjDt15hEO/BNKlHZszrF5lCaR5fLe1F5CDaVroEbbS1SWJiFQYvehIRKQSC64ZDCZgwKqYVUxYM6FE7fae3cuTW59kQpsJTO4wuVxrFHEGe1YWaf/+N5gmJvDfw4edPsbMH37m4C+B9N+dKk8gBdi5awhFgdSgb59teHk1cnVJIiIVRk9KRUQqsc71O8OvD0ZNOJJxhBmbZzCsxTAMDJJyksguyGZD7AYA+gX1I/FCItM3T6e5f3OGNhvKwZSDxf3V9qxNsF+wC+5E5PJMu53ClBSibxqCxWbDBBq++AIP3Xmn88YwTYbvOsqB3EIwDJ5s0ZCbKsmUXYDY2HcpKDiDaULPHl/i5dXQ1SWJiFQowzRN09VFhIWFERUV5eoyREQqpXf2v8NbB9/6LZxewfrR69l7di//iPzHZc+PbDmSl/q+5OQKRa7d8U6dMQsKADANg+ZffIF3SEun9W+aJjfvPMLhfDuYJsFJ8ewdP8Jp/ZdVRsb3fL/vLgwD6tcbQceOr7u6JBGRcnGlzKcnpSIildyDXR+kf3B/7vrqruKpvL5uvuy8e+dlrw8MCeS2kNsqtkiRa2DLysLucGABHBYLbj4+ZH70b7yfe85pYwzfdbQ4kC7p2Jzhg7o6re+ycjhs7Ns/FsMAN7dAOnR4zdUliYi4hNaUiohUAW3rtuW2kNvwLvAGEy7YLrBg3wJXlyVyzexZWZzo1x+LzYbDzY3QyO00eObvZC5fQcHp004Z4/EffubA77Z9GV6J1pA6HDa+23oDRd80WejfbwuGoT/LROT6pJ9+IiJVxIt9XmRSj0nF03jfPvw2+5P3u7YokWtgy8rieL/+WAoKcLi703r7NtwCAvBq1w6Awvj4Mo/x8ZlUPkpMB+CJZg0qzbYvvzp0+DEcjrTidaQKpCJyPbvqT8C4uDgGDhxIu3btaN++PfPnzwcgPT2dIUOG0KpVK4YMGUJGRgZQtHbjscceIyQkhE6dOrFv377yvQMRkevII10e4b5294Gj6POkLyaRa8u9arvT507z/M7nuWPNHXT+oDP3rb/vovMpOSm8GvUqo9eMpudHPbnp05v4+/a/k5yTXB63IdexjP+u4sfwXsWBNHTrd7jXKgqMufuKvmRxDwoq0xgfn0lj+vE4MAz6+Hoys0XjMtftTOfOHSMt7WsAWrd6hpo1Q11ckYiIa101lLq5ufHqq69y7Ngxdu3axYIFCzh27Bhz585l8ODBREdHM3jwYObOnQvAunXriI6OJjo6mkWLFvHwww+X+02IiFwvDMNgZo+ZbBu/DQDTzWTsmrE4TMcV28VkxrAtfhvN/JrR1K/pJeePpR1j0+lNDG8+nLcGvcXjYY9zKOUQE9dOJKcwp1zuRa4/Gf9dReLTTxc97LdYqP/gg+QdPsyF7ZGkvPEmSfPm4RcxHI8mTa55jNVn05l+/PQvgdSDz3q0dVr9zmCzZbNn70gAPDyCadLkvqu0EBGp/kr99t1Ro0bx6KOP8uijj7JlyxYaNWpEYmIiAwYM4MSJEzz44IMMGDCA8ePHAxAaGlp83R/R23dFREpv95nd3L/hfjDA3+rPtru3YRiXf0Wvw3Rg+WV64MwtM8nIy2DJsCXF588VnMPHzQc3y2/vv4vNimXE5yP4Z59/MipkVPnejFR757dHEnf//RiAe69e+HXtwoVvvqEg4QyG1Yp7cBC1br+DgHFjMdzdr2mML5IzeOBoLGAQ7uvB6h7tnHkLZWaaJtu2D6aw8GfAjQE3HsZq9XB1WSIiFcJpb9+NjY1l//79hIeHk5SUVBw0GzZsSFJSEgAJCQkEB/+2B15QUBAJCQmXhNJFixaxaNEiAFJSUkpThoiIAOGNw3m82+O8uu9VsuxZPLP1GV668fLbvViusl7Nz8PvkmPN/Jvh7eZNSq5+RkvZ2DIzOf3gg1gAa+tWhCwt+kKk/vTpThsjq9BWHEjJy+WzGzs7rW9nSUz8L4WFP2Oa0L3bRwqkIiK/KPGq+gsXLjB69Ghef/11/Pwu/uPFMIw//Hb+j0ybNo2oqCiioqKoV69eqdqKiEiRyZ0m85dufwET1sSuYfGhxU7r+0T6CXJtuZed7itSUrasLE70vxGL3U6BYdDio/84fYyMQhudth8CDDyBn2/uiZuldH+XlDeb7TzHfngKAF/ftgQEhLm4IhGRyqNEobSwsJDRo0dz9913c8cddwDQoEEDEhMTAUhMTKR+/foABAYGEhcXV9w2Pj6ewMBAZ9ctIiK/mNppKhHNIwB4ff/rHE87XuY+HaaDl/e+TFO/pgwIHlDm/uT6FTNiZNFLjdzcaL8jEreavk7t3zRNum8/Qj4WPHDwfZ/2eFqtTh3DGX44/hyGYcduh+7dnB/MRUSqsquGUtM0mTp1Km3btmXmzJnFx0eOHMmyZcsAWLZsGaNGjSo+/sEHH2CaJrt27cLf3/+K60lFRKTs5vSfQ2232gCMXTUWu8Nepv5e3/c6B5MPMrvvbNwt17a+TyTh789gJidjAi0/W4lbQIDTx5i07wRFr+Iy2X9DR+p6VL7/vyYlfU1S0moAEs+E4u5+6XR5EZHr2VXXlEZGRvLhhx/SsWNHunTpAsDs2bN58sknueuuu1i8eDFNmzblk08+ASAiIoK1a9cSEhKCj48PS5YsuVL3IiLiBBbDwmd3fMbATwbicHdw08c38c3Yb7BaSv/EaMXxFSw9spR5/efRqV6ncqhWqptz678mfelSCk6dwpGbi3vjxthNE/vPPwPgd9tteIU6f9uTr5Iy2HAuD0yTV1sHUcez8gXSs0nrOHLkUQwDvL27MGnSZ64uSUSk0rlqKO3bty9/9ILeTZs2XXLMMAwWLFhQ9spERKRU6nrX5eNbP2bsl2NJLUhlyCdD2DR2U6nW/G/8eSNz9sxhZveZDGs+rByrlerEnpmJT69wak+dgrWmH+n/+YgLGzZiAn63307QnNlOH3Nv1gWmHo0Fw6B3TW/uDqp876dIS9vO0aNFgdTHpwu9eymQiohcTolfdCQiIpVfuzrt+PjWjwFIyU/hlb2vlLjt3rN7eXLrk0xoM4HJHSaXU4VSHQWMG0v9v/wFvyFDcBQWcH7DRgAMq5XA2Zd/I3RZFDpMxuyLAcMg2Grw3zDnP4Utq6Skdew/MAkAm81QIBURuYJSbQkjIiKVX7s67ZjcdjJLjy3lg2Mf4G31ZmrnqWyL3wZAUk4S2QXZbIjdAEC/oH4kXkhk+ubpNPdvztBmQzmYcrC4v9qetQn2C77sWCK/Z5omcQ9MwwCoXRsjJ6dcxvkgIYV8ALudDX06lXoHgPKWn5/FkV+ekHp4tKR/v5WuLklEpFJTKBURqYYe7/k4FwousPLkSt45/A7BfsE8s+OZi6/57nEA1o9ez6HUQ5wvPM+JjBNMXDfxoutGthzJS32d/7RLqp/Tz/zjtw+ZmQTce2+5BMY2NbwBaJl6hgCP7k7vvywcDhvbI/sCYOBDv74bXFyRiEjlZ5h/tGC0AoWFhREVFeXqMkREqp0719zJ8YyiLWLW3b6OIL8gF1ck1dXpZ54he+VvU1TzPD3psn8fhqV8VgplFdrwc7NWuqekR44+QVLSZ5gm9O0TiZdXQ1eXJCJSKVwp82lNqYhINfZhxIf4WYu2n4hYFUHShSQXVyTVUer775O98jNMoObtt1N/1ix8PDw4++KL5Tamv7tbpQukZ858TlJSUTDPzKivQCoiUkIKpSIi1ZiXmxebx2/G0/DExGTMv8e4uiSpZkyHg5TX5wNQo19fgubMps59k2nw96fJXL6CgtOnXVxhxbDbC/nheNGU+Bo12jN6dKSLKxIRqToUSkVEqjlPqydPhiZlZRAAACAASURBVD8JQKZXJhtjN7q4IqlOTk24GwoKcACNX/xn8XGvdu0AKIyPd1FlFevIkcd++V8Wwnt+jmHoTywRkZLST0wRkevAmNAxdAroBAbM3DyT9Nx0V5ck1UDykiXkHTgAQND813Fv2KD4XO6+/QC4B10f65jr1OmHh0cjwnuuVSAVESkl/dQUEblOvBfxHu64gxVGrx7t6nKkisuPiyP15XkYgKVuXWzxCVzYupUL2yNJeeNNkubNwy9iOB5Nmri61AoRFDSBfn234+vbytWliIhUOdoSRkTkOuHt5s2noz7lttW3kZqfyv1r7+e9iPdcXZZUQfacHGKGDsMCZLtZaTJ6NFmfr6Ig4QyG1Yp7cBD1Z8wgYNxYV5cqIiJVgEKpiMh1pGWtlszuM5untz/N7pTdfP3T1wxtMdTVZUkVE3P3PVgcDmxA1++/x+rpSf0Zf3F1WSIiUkVp+q6IyHVmRMgIejfsDcBft/6VvYl7XVyRVCXpn3yK/YcfMIGtAwdg9fR0dUkiIlLFKZSKiFyHFg1bRLBPMBgwZe0UcgpzXF2SVAGO7GzOPvssBvBzg/r86V//cnVJIiJSDSiUiohcp5aPXI4FC7jBwOUDybPlubokqeRi7pmIARQYBsO/+87V5YiISDWhUCoicp3y9/Tn6zFfY8FCjpnDjctvJNeW6+qypJI6OfX+4mm7O/v1dXU5IiJSjSiUiohcxxrWaMj60euLgqkjh8ErBmNz2FxdllQy8X/9GwWRkZhAozmzeWjRIleXJCIi1YhCqYjIda6RbyPWj1mPG26ct58nNTfV1SVJJXLy4Uc4/+WXANS+7z4Cbr/dxRWJiEh1oy1hRESERjUasX3CdpKyk2hYo6Gry5FKpGD7dkzAd/BgGjzxN1eXIyIi1ZBCqYiIAFDDvQYtarVwdRlSyTRfuRLDwx3P5s1dXYqIiFRTCqUiIiLyh7xCW7u6BBERqea0plRERERERERcRqFUREREREREXEahVERERERERFxGoVRERERERERcRqFUREREREREXEahVERERERERFxGoVRERERERERc5qqhNC8vj549e9K5c2fat2/Pc889B8CpU6cIDw8nJCSEsWPHUlBQAEB+fj5jx44lJCSE8PBwYmNjy/UGREREREREpOq6aij19PRk8+bNHDx4kAMHDrB+/Xp27drFrFmzmDFjBjExMQQEBLB48WIAFi9eTEBAADExMcyYMYNZs2aV+02IiIiIiIhI1XTVUGoYBr6+vgAUFhZSWFiIYRhs3ryZMWPGADBp0iQ+//xzAFavXs2kSZMAGDNmDJs2bcI0zfKqX0RERERERKqwEq0ptdvtdOnShfr16zNkyBBatmxJrVq1cHNzAyAoKIiEhAQAEhISCA4OBsDNzQ1/f3/S0tIu6XPRokWEhYURFhZGSkqKs+5HREREREREqpAShVKr1cqBAweIj49nz549HD9+vMwDT5s2jaioKKKioqhXr16Z+xMREREREZGqp1Rv361VqxYDBw5k586dZGZmYrPZAIiPjycwMBCAwMBA4uLiALDZbGRlZVGnTh0nly0iIiIiIiLVwVVDaUpKCpmZmQDk5uayceNG2rZty8CBA1m5ciUAy5YtY9SoUQCMHDmSZcuWAbBy5UoGDRqEYRjlVb+IiIiIiIhUYW5XuyAxMZFJkyZht9txOBzcdddd3HrrrbRr145x48bxzDPP0LVrV6ZOnQrA1KlTmThxIiEhIdSuXZsVK1aU+02IiIiIiIhI1WSYleDVuGFhYURFRbm6DBERERERESkHV8p8pVpTKiIiIiIiIuJMCqUiIiIiIiLiMgqlIiIiIiIi4jIKpSIiIiIiIuIyCqUiIiIiIiLiMgqlIiLiFKZp8vrrr7N06VJXlyIiIiJViEKpiIg4hWmaZGZmEhsby9q1a11djoiIiFQRbq4uQEREqgeLxUJ4eDi7d+9mz549AERERLi4qsv7OvZrvjz5JcfSjnG+8DzN/Joxuf1kIloU1Xuh4ALLji1je/x2Ys/F4mn1pHO9zszoPoNm/s1cW7yIiEg1oyelIiLiNMOHD6dXr14A7N69m2+++abEbe0Ok+9/zsDuMMurvGIfHPsAb3dv/tbzb7w56E16NuzJrG2z+OiHjwBIzE7ksx8/44bAG3h1wKs82/tZUnNTmbB2Amezz5Z7fSIiItcTPSkVERGnGjZsGHl5eRw4cICtW7cyaNAgLJarfwf6aVQcT/73MBbgv4/cQJcmAaUee0fCDqZ/O53nej/HrS1v/cPr3hr0FgFev/Uf3iic5NxkPjz2IXe3vZtA30DW3rEWLzev4mu6N+jOkJVDWBW9ioe7PHz5js8eglUPQ9M+EDGv1PU7y5nMXOr4euDpZnVZDSIiIiWlJ6UiIuJ0w4YNA4qm9M6fPx/TvPrTzz4hdbEADuC2hZEcPJ1Z6nH3Ju0lz57HU9uf4mTmyT+87veB9Fdta7clOScZAB93n4sCKYC/pz+NazQmOWEP/GccvNoGXmoM7/SHwyshbi+Ot/tB0hHY8w4sHw+vtIb/8Yf9H5X6Xq7V0h2nuGHuZv707+8rbEwREZGyUCgVERGn8/LyYsqUKQBkZWWxcePGq7YJru1DzOwIGvq6AQajFm7ncHxGicb76lAi9y/by3/WtefCiRfIPvUot3zwHKcyT1103fI9pxnwv9/S+pl13PrmNiJjUovPHUw5SFO/pn84RnpeOqfPn6ZZ0nHwqAFDZ8P45dCsH3w2Fcfim7AAhZ61oUlvyIqH1kNLVL+zvP71Mf5nzVEA6tX0rNCxRURErpVCqYiIlIsmTZoQHh4OwI4dO8jLy7tqG4vFYMfTN9OoZlEwHfFWJIfirh5M39v+Ez4ebvxjRDuWTe5NDd8E8s6MZ9iSufyU+RMAqw8k8PdVh7mjWxBL7+tB6/o1mbJ0LyfOnmdX4i42n97MpPaT/nCMV/a+go+7D6Nu+wjGLIYOd0CLG6H9aEyKfqHm+wbhPuskTF4LD22DoXNK8p+qzAptdnq8uJ7Xv/0JMPC05/DCbR0rZGwREZGyUigVEZFyM3z48OL1pIsWLSpRG4vFYPuTQ4qD6cgFkRw4feVgunhSD94Y35VbOzWmf+uGfD/jGXz8j1GQ3pdRq0dxMvMk87+JZnS3IB4b3IobWtbllTs706xODV77diezts5iYPBAbgu57bL9f3z8Y7786Uue7/08tWq3KD5esOpPmO8NxABMwHPmYbBYiv5VoPuX7SUl2w4mhHKGH14eg7tVv+JFRKRq0G8sEREpVxMmTMA0TdLT00v8Nl6r1XJRML1tYSTvbv3jNaK1a3hc9NnD6sGjvUdh2vwAGPnpFH5KzeaWTo2Kr7FYDAa192VH9ss0rtGYuf3nXrbvb09/y5w9c5jRfQaDmw4uPl6w8kE8Dv4bTMh1uGHUa1vhYRTgn18c5rvoNAD+985OfD33ASwWo8LrEBERuVYKpSIiUq5CQkKKp/Fu376d2NjYErWzWi1EPvXbVN6X1h7nbytK/vKeg3HnaF2/FrXcauEoqAeAp+dvT1xzbblsPfcyDtPGi71ew9vN+5I+9ifv54mtT3Bn6zu5r8N9xccLP3sYjyMrME1wdLkHb4sdbvhziWtzltlfHOG9yNNgmky5oQl3hjWp8BpERETKSqFURETKXUREBL6+vgC8//77JW5nsRhEPnUzt3RsAJh8uj+RJz7Zd9V2kTGpbDiWxAP9WrB53Ga8zToAPLD5Hk5lncLmsPH4lsdJz08g5/QULGbNS/qIyYjh0U2P0iewD0+FP/Xbibgo3A//pyiQ9n4Ma8zX0OYW6Hp3ie/LGd785gSLtscCMKVPE54dqTWkIiJSNSmUiohIhRg9ejRQtE3M8uXLS9zOYjFYcHcYM28KAQM+2ZfI41d4YhqXnsP0FfsZ0rYBd4YF42515+nefy8+P/LzkTyx9Qm2JWxjePBEDGsOJzKOcDDlIAdTDlJgLyAtN42HvnkIH3cf7m57N4dTDxedP7Ga6A+K3qhrrxOKNWY9+AfDHe9e43+Va3My+TyvfhMNhsGd3Rrz7MhOFTq+iIiIM7m5ugAREbk+NG/enOHDh7Nu3TqOHz/O6dOnadKk5NNNH7upDYZh8OrGaD47cBbD+J5Xxna/6JrMnAImL9lDYC1v5o/rWny8To2iPUdrUp8LnGbjz0Vb1Hx66i1qNIcndv7Wx/rR6zlz4QxJOUkATPl6ykVjhNWpzaJ0G+4+fpCdAhM+AQ+fUv23KAuHw0HE/K2Agbs9l5fHdKmwsUVERMqDQqmIiFSY8PBwIiMjOXfuHO+99x4vvPBCqdr/eXAopgmvbYxm5f6z9GkVz+3dggDILbAzZeleCu0miyf3wNvDWtyuZb2iqcMv3fAez31/F5m2TKxYuS/wE5bsiOXAszdfNE6gbyCHJx3+7UD8PhzvDcQC2E2wtugPSUdh6kbwrXdt/zGugWmaDPrfTeTbiz7vf3GUXmokIiJVnqbviohIhRo7diwAhmGU+G28v/fYTaHc0LJojeiMTw5wJD4Tm93BIx99T2xaDsum9KSur+dFbZrU8aFF3Rp8fSSFzeM3A2AzHSzcvpMbW18lVCbsLw6kBb5BWLvfC6e2Qv8nICcd4vb+9s+WX9Qm+Tgc/RyOf1X0+cz+os+x20t9v783afFuYjMKAJOVD/XG18u9TP2JiIhUBnpSKiIiFSowMJCwsDCioqLYtm0bHTp0oGHDhqXq48Op4fSdu5HE8zZufWs7N7dryLcnUnhuRDsycgrIOF1QfG37xn54ulmZflMrZnx8gKAAbx5v9w7/3PgNtnx/EqzvA29efqC4vTgW34QFyK8ZjOeMgzD/l+my62ddev30QxDQFI6ugu9+t8XM3neL/jXtC/d9Vap7/dXibSfZGpMKGLw8uhNhzWpfUz8iIiKVjWGapunqIn7940RERK4PDoeDefPmkZeXh9Vq5R//+Eep+7DbHfSds4HEC3bABC4/jXXbEwMJrl205nP5ntO8/d1JEjPzaBDgINXnXdx8TvJEjyeY2H7ixQ0TD+F4p1/xE1KPGYfAar10gArw/vaTvPDlD4DBsLZ1eXtSuEvqEBERuVZXynwKpSIi4hI5OTnMmzcP0zQZPHgw/fv3L3UfDodJn9kbSLxgA0y+eqwf7Rv7l7j9zG9msjFhI5gwq8cs7ml/T9EJuw3bnCa42bIp9K6P+99OgMU1K16WbD/J878E0oi2dVmoQCoiIlXQlTKf1pSKiIhL+Pj40LFjRwzDYNOmTWzdurXUfVgsBpFP30y9GlbAYPTC7dgdJf+u9bWbXmNo8FAw4OWol0nOSQag4LWOuNmysZvg/kikywJp8rk8nv/yOGBwa4d6CqQiIlItKZSKiIjLjB49mvbt22MYBps3byYnJ6fUfVgsBl/PGAiY5Nmg47NrOXYmq8TtXxn0CjWsNQC4+dObuXDoE9yzz2CaYH1oG9SsX+qanKXfy5sA8PUweOueni6rQ0REpDwplIqIiEvdeeedWH9Zq7lo0aJr6qO2rydfPNoXMMmxQcT8raRn55e4/Tdjv8GCBTt23t/8NwwgxgyERp2uqR5nuOOt74q3ftn19BCX1SEiIlLeShxK7XY7Xbt25dZbbwXg1KlThIeHExISwtixYykoKHrTYX5+PmPHjiUkJITw8HBiY2PLpXAREak+7rnnHkzTJDMzk3Xr1l1THx2DahH1zBA8rIBhYeirm0s8ldfX3ZdpnaZhmNAvNwe7Ca2e3X9NdTjDmAXfsS/+AmDy5vgu2vpFRESqtRJvCTN//nzatm3LuXPnAJg1axYzZsxg3LhxPPTQQyxevJiHH36YxYsXExAQQExMDCtWrGDWrFl8/PHH5XYDIiJS9TVv3py+ffsSGRnJ7t27GTBgAN7e3n94fVpaGjt27CAuLo6UlBSaNGnCfffdR11fT1Y/2pf73vyKYY4fefGF3Ze0bdmyJRMnTrzk+MOFnjxy6jSGAXscbenp5nnJNRXhnkWRRMUVBdIFE7pxS6fGLqlDRESkopToSWl8fDxfffUV999/PwCmabJ582bGjBkDwKRJk/j8888BWL16NZMmTQJgzJgxbNq0iUrwgl8REankBg8ejGEUbevy7rvvXvHalJQUoqOjqVu3LnXq1LnoXNtG/ozr34mv8tvyVV4bfDrcxNSpU4t/Z4WEhFzSn2P3uxhrH8cwoCBkOD1f3OWkuyqdNQcT2P5TBpgmC8d3USAVEZHrQolC6V/+8hfmzZuH5Ze3D6alpVGrVi3c3IoetAYFBZGQkABAQkICwcHBALi5ueHv709aWtolfS5atIiwsDDCwsJISUlxys2IiEjVZbFYmDx5MgDp6el8+OGHf3ht69atmTlzJnfddRf16tW75PxfhnVgcPdQUqjJwqhM9qUaZGVlYRgG7du3v/ji/PMY6/6KARSEDMPjnhVOvKuSO59XyGPLDwAG9cwMIjoHuaQOERGRinbVUPrll19Sv359unfv7tSBp02bRlRUFFFRUZf9g0JERK4/TZs2JSIiAoCYmBhSU1Mve52lBFu0zB3ThV7NawEG0z8+wPcHDtK0aVP8/Pwuus7+yWQMIM9hxeMe1yw3yc4rpMeLGwDwtMLeeZdOLxYREamurvpbPTIykjVr1tCsWTPGjRvH5s2bmT59OpmZmdhsNqBoem9gYCAAgYGBxMXFAWCz2cjKyrpkapWIiMgf6dmzJz4+PhiGwdtvv138u+ZaLJvSCz9PAz8jn/SUZAJbtL7kGqunLyYGH1tGlaXsa5adbyPsnxvIsxe96GHbrMEuqUNERMRVrhpK58yZQ3x8PLGxsaxYsYJBgwbx0UcfMXDgQFauXAnAsmXLGDWq6Jf5yJEjWbZsGQArV65k0KBBxWuERERESuKBBx4Air7cnDdvHoWFhdfUj6e7lb3PDCXUPQ27afCPb9MvvejOpRjPJDHpf5aUpeQSiU3N5qn/HmbY61tp8dRXjPnXDrq/8DW5NrACO54eTL2aniz4NobeczYR+sw67np7J0dLse+qiIhIVXPN+5S+/PLLvPbaa4SEhJCWlsbUqVMBmDp1KmlpaYSEhPDaa68xd+5cpxUrIiLXh4CAAP785z8DUFBQwPz586+5L093K33q5HPG4Ud6wWV+7RkGVNCbdn9MOs+WE8m0qFeDpnVq8P3PGUVPSA3Y9fdB1PfzYuGWk7yxKZqHbmzJ4kk98PG0cs97u0k+n1chNYqIiFS0Em8JAzBgwAAGDBgAQIsWLdizZ88l13h5efHpp586pTgREbl+1alTh+nTpzN//nwuXLhAXFxc8Yv0SuPs2bNkZqRx34gRvNi6XTlUWnI3tW3Aze0bAtDh2fWYFH07vOOpwdSr6UVeoZ23t5zkkQEhTLqhGQDdmtai78vf8sGOn/nr0FCX1S4iIlJervlJqYiISHkLCAgo3q/0Wve8PnLkCG5ubvTo3IHGtf5479OKYLH8tpzlQoEdgGdvbUt9Py8A9v2cwfl8G7d0alR8nY+HG4Pb1GfLj8kVW6yIiEgFUSgVEZFK7d577wXg/PnzrF69GofDUar2R44cITQ0FE/PipmiezU2u4NHPtwLmGCa3N79t61fTqZcwGoxaF63xkVtQur7cjI5u4IrFRERqRgKpSIiUqk1atSIzp07YxgG+/fv59VXXyU/P5+jR49y9OhRzp8/T05OTvHngoKC4rZxcXFkZmbSoUMHF97Bb3bGpBLy93WsPZoMGPgY+fh7exSfz8otxMfDitVy8QsC/b3dyS20U2ArXSAXERGpCkq1plRERMQVbr/9dvz8/Ni2bRvZ2dnMnz+fnJyci6759X0G06dPx8OjKOgdOXIET09PWrVqVeE1/1/7fk5n/Hu7AANMB7WMXEKbl36NrIiISHWjUCoiIlXC4MGDadOmDe+++y45OTmEhoYyfvz4K7YZPnw4w4cPr6AKr2z8OzsBg8Y13Yl8egiPfLSP9OyCi67x93Ynp8CO3WFe9LQ0K7cQb3crHm6a4CQiItWPfruJiEiVERgYSKdOnQA4ceKEi6spueTzeeQ7ANNk3YwBf7h/d8t6vtgdJrFpF68fPZlygZb1a1y2jYiISFWnUCoiIlWKj48PwEVrRysz0zS59fUtRR8KLuDv4/GH13ZrGkBNTzfWHkosPpZbYGfTD8kMaF2/nCsVERFxDYVSERGpUrp06QKAh4cHS5cudW0xV2GaJq+sP05yth1Mk+E1fmbt4UTWHk7k7Lk80rMLij/nFtjxcrfy0ICWLNgSwwc7Y4mMSeWRj77HYZrF+5aKiIhUN4ZpmqariwgLCyMqKsrVZYiISBXx/fff88UXXwBQr149pkyZUryfaWUy9JVNnEjNAyCEBJY8cQ/95n172Wu3PTGQ4No+mKbJgm9j+Peu02TkFNApyJ/nRrSnQ6B/RZYuIiLiVFfKfAqlIiJSJe3bt481a9YUfx41ahRdu3Z1YUUXe/u7aOauOwEmtDYS2TD3AVeXJCIi4jJXynyavisiIlVSt27dmDBhAg5H0d6dq1evrjTrTDNzCpi77kfAoJlxVoFURETkChRKRUSkymrdujUvvPBC8edvv7381NiKNvn93QAYDhtb5t7v4mpEREQqN4VSERGp8kJDQwGIjIyksLDQpbWknc/jQPw5APq7n3JpLSIiIlWBQqmIiFR5t99+OwAWi4V58+YVT+l1hSH/bwsAvu4Gy176i8vqEBERqSoUSkVEpMrz8vJi+vTpABQWFha/mbeifXHgDOk5dgDWz7jRJTWIiIhUNQqlIiJSLQQEBDBw4EBM02Tfvn0kJCRU6PgFhXYeW7EfgF7NAgiqXaNCxxcREamqFEpFRKTauPHGG6lZsyaGYfDuu+9y7ty5Chm3wGanx4tfYwJWYPmDvStkXBERkepAoVRERKqVmTNn4ubmBsDbb79d7uOZpkn4PzeQVWBiYLL5bwMwDKPcxxUREakuFEpFRKRasVgsPPDAA5imSXZ2NidPnizX8V768ggZeQ4wTTY/PoCmdTRtV0REpDQUSkVEpNpp0KABtWrVwjAMvvrqq3IbZ/HWk7wX+TMAHYw4mtfzLbexREREqiuFUhERqZYiIiIASE9PZ8+ePU7v/+//PcCLa48DBl72HL6Y85DTxxAREbkeKJSKiEi1FBoaSsuWLQFYu3YtL730EhkZGU7p+9lVB/loTwKYJrd0aMCRuaO1jlREROQaKZSKiEi1NXHiRNq2bYtpmhQWFjJ//vwyB9MvDyXwwe54AB6+sTkL7gnDzapfpyIiItdKv0VFRKRaGzt2LI8//jju7u4AzJ8/n/T09Gvu78UvjgHgxwVmRbR3So0iIiLXM4VSERGp9vz8/HjiiSeKg+kbb7xBUlJSqft5Z0sMSefzAejrFuvMEkVERK5bCqUiInJdcHd3vyiY/utf/2LTpk0lbp+Ylcuc9ScAg9s71mfhP2eVU6Ui/7+9+4+J8trzOP55BDVlW7EYETIQkc5EAZ3SKmCy9zZryRRjumOsFG1NmVtJsWbv1azd/vjDVpvsFrr949ZYm5aEUOzu1bDeq9ykqBis/RW8BCls4kYzq5gL44RSYaxtFRzm7B+us7qWC/YCjzDv119w5nnge5JvDnyYw3kAILYQSgEAMWP69Ol69dVXNWvWLEnSF198MaqtvBdDV/WLiuM3vkZkQL/dkDeudQIAEEtGFUozMjK0ZMkS5ebmatmyZZJuHLHv8Xjkcrnk8XiiB0cYY7RlyxY5nU653W61tbWNX/UAANyl+Ph4bdu2Tffdd5+kG1t5/1IwNcbol5XHNSTp/ulSxz97J6hSAABiw6jfKf3000/V3t6u1tZWSVJlZaUKCwvl9/tVWFioyspKSdLhw4fl9/vl9/tVVVWlzZs3j0/lAAD8FbZt26b4+HhJ0gcffDDsdX9o7dKQjGSM/rS9SAkz4ieqRAAAYsLP3r5bX18vn88nSfL5fDp06FB0vLS0VJZlafny5QqFQgoGg2NTLQAAY2T69Ol68cUXJUmDg4M/ec3Bti699Pv/lGQpzfpWfzOTQAoAwFgbVSi1LEtPPPGEli5dqqqqKklST0+PUlNTJUkpKSnRUwwDgYDS09Oj96alpSkQCIx13QAAjJlIJHLH2EB4SP9YdyOQ/m3GLH1Z+asJrwsAgFgwqj/5fvnll3I4HPrmm2/k8Xi0aNGi2163LEuWZd3VN66qqooG3N7e3ru6FwCAsdDQ0CBJP/kz7De/+98zEcyQ/m3TLyayLAAAYsqo3il1OBySpOTkZK1Zs0YtLS2aN29edFtuMBhUcnJy9Nqurq7ovd3d3dH7b1VeXq7W1la1trZq7ty5f/VEAAC4W+fPn5cxRqtXr75t/PnqZjX+1zeSpCVxwbv+wysAABi9EUPpDz/8oCtXrkQ/bmxs1OLFi+X1elVbWytJqq2tjf5A93q92rt3r4wxOnnypBITE6PbfAEAuNdYlqWFCxdGP6/67L/1qb9PktEvnXP0x38pt684AABiwIjbd3t6erRmzRpJUjgc1rPPPquVK1cqLy9PJSUlqq6u1vz581VXVydJWrVqlRoaGuR0OpWQkKCamprxnQEAAD/TtGnTFIlEoqfwRiJGbx8+K0n6e3eqdj+71M7yAACICSOG0szMTHV0dNwxPmfOHDU1Nd0xblmW9uzZMzbVAQAwjkpLS/XRRx9p5syZkqTtf+jQkCSZiP51rdvW2gAAiBU/+5EwAABMdhkZGdq5c6ck6WLoR/2uNSAZo0esP+u+mdPtLQ4AgBjBA9cAADGr7c/9evfYWQVDV+Xv/VGSFGeGdPDtf7C5MgAAYgehFAAQkw6c6tI//UeHpP87WdeKhPXHrX9nW00AAMQiQikAIOb89thZ7WryS7I0w1yT+aFfeYk/6t8rfsPjXwAAmGCEUgBAzJked+NIhVTTq+a3qccZSAAACNtJREFUf2VvMQAAxDhCKQAg5vz6cZd+/bjL7jIAAIA4fRcAAAAAYCNCKQAAAADANoRSAAAAAIBtCKUAAAAAANsQSgEAAAAAtiGUAgAAAABsQygFAAAAANiGUAoAAAAAsA2hFAAAAABgG0IpAAAAAMA2hFIAAAAAgG0IpQAAAAAA2xBKAQAAAAC2IZQCAAAAAGxDKAUAAAAA2IZQCgAAAACwDaEUAAAAAGAbQikAAAAAwDaEUgAAAACAbQilAAAAAADbEEoBAAAAALYhlAIAAAAAbDOqUBoKhVRcXKxFixYpKytLzc3N6uvrk8fjkcvlksfjUX9/vyTJGKMtW7bI6XTK7Xarra1tXCcAAAAAAJi8RhVKt27dqpUrV+rMmTPq6OhQVlaWKisrVVhYKL/fr8LCQlVWVkqSDh8+LL/fL7/fr6qqKm3evHlcJwAAAAAAmLxGDKWXL1/W559/rrKyMknSjBkzNHv2bNXX18vn80mSfD6fDh06JEmqr69XaWmpLMvS8uXLFQqFFAwGx3EKAAAAAIDJKn6kCzo7OzV37lw9//zz6ujo0NKlS7Vr1y719PQoNTVVkpSSkqKenh5JUiAQUHp6evT+tLQ0BQKB6LU3VVVVqaqqSpJ05swZLVu2bMwmBUyU3t5ezZ071+4ygDFDT2Oqoacx1dDTmKwuXLgw7GsjhtJwOKy2tjbt3r1bBQUF2rp1a3Sr7k2WZcmyrLsqqry8XOXl5Xd1D3CvWbZsmVpbW+0uAxgz9DSmGnoaUw09jaloxO27aWlpSktLU0FBgSSpuLhYbW1tmjdvXnRbbjAYVHJysiTJ4XCoq6sren93d7ccDsd41A4AAAAAmORGDKUpKSlKT0/X2bNnJUlNTU3Kzs6W1+tVbW2tJKm2tlarV6+WJHm9Xu3du1fGGJ08eVKJiYl3bN0FAAAAAEAaxfZdSdq9e7c2bNigwcFBZWZmqqamRpFIRCUlJaqurtb8+fNVV1cnSVq1apUaGhrkdDqVkJCgmpqacZ0AYCe2oGOqoacx1dDTmGroaUxFljHG2F0EAAAAACA2jeo5pQAAAAAAjAdCKQAAAADANoRS4BYbN25UcnKyFi9eHB3buXOnHA6HcnNzlZubq4aGhuhrFRUVcjqdWrhwoY4ePRodP3LkiBYuXCin03nHI5SAidTV1aUVK1YoOztbOTk52rVrlySpr69PHo9HLpdLHo9H/f39kiRjjLZs2SKn0ym32622trbo16qtrZXL5ZLL5YoedAdMtOF6mrUak9m1a9eUn5+vhx9+WDk5OdqxY4ckqbOzUwUFBXI6nVq3bp0GBwclSQMDA1q3bp2cTqcKCgpue/7jcP0O3NMMgKjPPvvMnDp1yuTk5ETHduzYYd555507rj19+rRxu93m2rVr5vz58yYzM9OEw2ETDodNZmamOXfunBkYGDBut9ucPn16IqcBRF28eNGcOnXKGGPMd999Z1wulzl9+rR5+eWXTUVFhTHGmIqKCvPKK68YY4z55JNPzMqVK00kEjHNzc0mPz/fGGPMpUuXzIIFC8ylS5dMX1+fWbBggenr67NnUohpw/U0azUms0gkYq5cuWKMMWZwcNDk5+eb5uZm8/TTT5t9+/YZY4zZtGmTef/9940xxuzZs8ds2rTJGGPMvn37TElJiTFm+H4H7nW8Uwrc4rHHHlNSUtKorq2vr9f69es1c+ZMLViwQE6nUy0tLWppaZHT6VRmZqZmzJih9evXq76+fpwrB35aamqqHn30UUnSAw88oKysLAUCAdXX18vn80mSfD6fDh06JOlGX5eWlsqyLC1fvlyhUEjBYFBHjx6Vx+NRUlKSHnzwQXk8Hh05csS2eSF2DdfTw2GtxmRgWZbuv/9+SdL169d1/fp1WZal48ePq7i4WNKda/XNNby4uFhNTU0yxgzb78C9jlAKjMJ7770nt9utjRs3Rrc5BgIBpaenR69JS0tTIBAYdhyw24ULF/T111+roKBAPT090WdIp6SkqKenRxJ9jcnl1p6WWKsxuQ0NDSk3N1fJycnyeDx66KGHNHv2bMXH33iC4609emv/xsfHKzExUZcuXaKvMWkRSoERbN68WefOnVN7e7tSU1P10ksv2V0ScNe+//57rV27Vu+++65mzZp122uWZcmyLJsqA36e/9/TrNWY7OLi4tTe3q7u7m61tLTozJkzdpcETBhCKTCCefPmKS4uTtOmTdMLL7wQ3QbjcDjU1dUVva67u1sOh2PYccAu169f19q1a7VhwwY99dRTkm70dTAYlCQFg0ElJydLoq8xOQzX06zVmApmz56tFStWqLm5WaFQSOFwWNLtPXpr/4bDYV2+fFlz5syhrzFpEUqBEdz8xV2SDh48GD2Z1+v1av/+/RoYGFBnZ6f8fr/y8/OVl5cnv9+vzs5ODQ4Oav/+/fJ6vXaVjxhnjFFZWZmysrK0bdu26LjX642eoFtbW6vVq1dHx/fu3StjjE6ePKnExESlpqaqqKhIjY2N6u/vV39/vxobG1VUVGTLnBDbhutp1mpMZr29vQqFQpKkq1ev6tixY8rKytKKFSt04MABSXeu1TfX8AMHDujxxx+XZVnD9jtwr4u3uwDgXvLMM8/oxIkT+vbbb5WWlqY333xTJ06cUHt7uyzLUkZGhj788ENJUk5OjkpKSpSdna34+Hjt2bNHcXFxkm78X1NRUZGGhoa0ceNG5eTk2DktxLCvvvpKH3/8sZYsWaLc3FxJ0ltvvaXXXntNJSUlqq6u1vz581VXVydJWrVqlRoaGuR0OpWQkKCamhpJUlJSkl5//XXl5eVJkt54441RHwoGjKXhenrfvn2s1Zi0gsGgfD6fhoaGFIlEVFJSoieffFLZ2dlav369tm/frkceeURlZWWSpLKyMj333HNyOp1KSkrS/v37Jf3lfgfuZZYxxthdBAAAAAAgNrF9FwAAAABgG0IpAAAAAMA2hFIAAAAAgG0IpQAAAAAA2xBKAQAAAAC2IZQCAAAAAGxDKAUAAAAA2OZ/ALwwYH2JHZ1mAAAAAElFTkSuQmCC\n",
                "text/plain": "<Figure size 1152x288 with 1 Axes>"
              }
            ],
            "_view_module": "@jupyter-widgets/output",
            "_model_module_version": "1.0.0",
            "_view_count": null,
            "_view_module_version": "1.0.0",
            "layout": "IPY_MODEL_4bc411e7ec6d427abb452bc0ac5ce27c",
            "_model_module": "@jupyter-widgets/output"
          }
        },
        "fc6f32163e4b47e98c21af6ad08191f4": {
          "model_module": "@jupyter-widgets/controls",
          "model_name": "SliderStyleModel",
          "state": {
            "_view_name": "StyleView",
            "handle_color": null,
            "_model_name": "SliderStyleModel",
            "description_width": "",
            "_view_module": "@jupyter-widgets/base",
            "_model_module_version": "1.5.0",
            "_view_count": null,
            "_view_module_version": "1.2.0",
            "_model_module": "@jupyter-widgets/controls"
          }
        },
        "0412fc87ca144e8e854fd063e16b305e": {
          "model_module": "@jupyter-widgets/base",
          "model_name": "LayoutModel",
          "state": {
            "_view_name": "LayoutView",
            "grid_template_rows": null,
            "right": null,
            "justify_content": null,
            "_view_module": "@jupyter-widgets/base",
            "overflow": null,
            "_model_module_version": "1.2.0",
            "_view_count": null,
            "flex_flow": null,
            "width": "900px",
            "min_width": null,
            "border": null,
            "align_items": null,
            "bottom": null,
            "_model_module": "@jupyter-widgets/base",
            "top": null,
            "grid_column": null,
            "overflow_y": null,
            "overflow_x": null,
            "grid_auto_flow": null,
            "grid_area": null,
            "grid_template_columns": null,
            "flex": null,
            "_model_name": "LayoutModel",
            "justify_items": null,
            "grid_row": null,
            "max_height": null,
            "align_content": null,
            "visibility": null,
            "align_self": null,
            "height": null,
            "min_height": null,
            "padding": null,
            "grid_auto_rows": null,
            "grid_gap": null,
            "max_width": null,
            "order": null,
            "_view_module_version": "1.2.0",
            "grid_template_areas": null,
            "object_position": null,
            "object_fit": null,
            "grid_auto_columns": null,
            "margin": null,
            "display": null,
            "left": null
          }
        },
        "4bc411e7ec6d427abb452bc0ac5ce27c": {
          "model_module": "@jupyter-widgets/base",
          "model_name": "LayoutModel",
          "state": {
            "_view_name": "LayoutView",
            "grid_template_rows": null,
            "right": null,
            "justify_content": null,
            "_view_module": "@jupyter-widgets/base",
            "overflow": null,
            "_model_module_version": "1.2.0",
            "_view_count": null,
            "flex_flow": null,
            "width": "1000px",
            "min_width": null,
            "border": null,
            "align_items": null,
            "bottom": null,
            "_model_module": "@jupyter-widgets/base",
            "top": null,
            "grid_column": null,
            "overflow_y": null,
            "overflow_x": null,
            "grid_auto_flow": null,
            "grid_area": null,
            "grid_template_columns": null,
            "flex": null,
            "_model_name": "LayoutModel",
            "justify_items": null,
            "grid_row": null,
            "max_height": null,
            "align_content": null,
            "visibility": null,
            "align_self": null,
            "height": null,
            "min_height": null,
            "padding": null,
            "grid_auto_rows": null,
            "grid_gap": null,
            "max_width": null,
            "order": null,
            "_view_module_version": "1.2.0",
            "grid_template_areas": null,
            "object_position": null,
            "object_fit": null,
            "grid_auto_columns": null,
            "margin": null,
            "display": null,
            "left": null
          }
        }
      }
    },
    "metadata": {
      "interpreter": {
        "hash": "3734dfd4db4ecefc9d41f3190f353a002706f1d1c09a9498e7ea1b22030d347c"
      }
    }
  },
  "cells": [
    {
      "cell_type": "markdown",
      "metadata": {
        "id": "M8WsE8ikugs3"
      },
      "source": [
        "# Example 2: Fault correlation through time steps of 2-D numerical model\n",
        "This example describes how to correlate faults extracted at different time steps."
      ]
    },
    {
      "cell_type": "markdown",
      "metadata": {
        "id": "_wnqah3PvRhD"
      },
      "source": [
        "## Setup\n",
        "\n",
        "1. First, you will need sign in to your Google account. If you're not signed in, you can sign in [here](https://myaccount.google.com/?utm_source=sign_in_no_continue)\n",
        "2. Next, head on to the [Colab Welcome Page](https://colab.research.google.com/notebooks/welcome.ipynb#recent=true).\n",
        "3. There, select Github in the top tab and search for https://github.com/thilowrona/fault_analysis_toolbox/blob/master/examples/2-fault_properties/2-fault_properties.ipynb\n",
        "4. Clicking opens this notebook. This is a Jupyter notebook; an awesome combination of code and documentation allowing us work on, describe and share our projects.\n",
        "5. When you run the first cell, you will face a pop-up saying ‘Warning: This notebook was not authored by Google’; you should click on ‘Run Anyway’ to get rid of the warning.\n",
        "6. Next we want to save our notebook. If you click on ‘File’ and then ‘Save’, you will see a pop-up saying ´CANNOT SAVE CHANGES´. Now, click on ‘SAVE A COPY IN DRIVE’. This opens up a new tab with the same file, but this time located in your Drive. If you want to continue working after saving, use the file in the new tab. Your notebook will be saved in a folder called Colab Notebooks in your Google Drive by default."
      ]
    },
    {
      "cell_type": "markdown",
      "metadata": {
        "id": "uLMyh4JWwFRq"
      },
      "source": [
        "## Load packages\n",
        "To run the toolbox, we will need a couple of packages including the toolbox itself. So let's install them:"
      ]
    },
    {
      "source": [
        "!git clone https://github.com/thilowrona/fault_analysis_toolbox"
      ],
      "cell_type": "code",
      "metadata": {
        "id": "8umzJV2qwtEw",
        "colab": {
          "base_uri": "https://localhost:8080/"
        },
        "outputId": "126bce43-2056-4a66-e2ab-1b58cdcbe949"
      },
      "execution_count": null,
      "outputs": []
    },
    {
      "source": [
        "!pip3 install vtk\n",
        "!pip3 install git+https://github.com/ulikoehler/cv_algorithms.git"
      ],
      "cell_type": "code",
      "metadata": {
        "colab": {
          "base_uri": "https://localhost:8080/"
        },
        "id": "pgN89-u56Tdl",
        "outputId": "388c55a9-f616-4eb1-9970-1481b22b6cad"
      },
      "execution_count": null,
      "outputs": []
    },
    {
      "cell_type": "markdown",
      "metadata": {
        "id": "OhqvKEkew-Qb"
      },
      "source": [
        "Now we can load the python packages:"
      ]
    },
    {
      "cell_type": "code",
      "metadata": {
        "id": "YlR6sp36t4Ag"
      },
      "source": [
        "import math\n",
        "import pickle\n",
        "\n",
        "import matplotlib.pyplot as plt\n",
        "import networkx as nx\n",
        "import numpy as np\n",
        "from ipywidgets import Layout, interactive, widgets\n",
        "from tqdm import tqdm\n"
      ],
      "execution_count": null,
      "outputs": []
    },
    {
      "cell_type": "markdown",
      "metadata": {
        "id": "wZilTT2YxyMd"
      },
      "source": [
        "and the functions from the fault analysis toolbox that we want to use:"
      ]
    },
    {
      "cell_type": "code",
      "metadata": {
        "id": "GK67NWzRxv8y"
      },
      "source": [
        "from faultanalysistoolbox.metrics import total_length\n",
        "from faultanalysistoolbox.plots import plot_components, plot_attribute, plot_faults"
      ],
      "execution_count": null,
      "outputs": []
    },
    {
      "cell_type": "markdown",
      "metadata": {
        "id": "0g4ix_pTyDMK"
      },
      "source": [
        "## Load and visualize networks"
      ]
    },
    {
      "cell_type": "markdown",
      "metadata": {
        "id": "MknzhRqNyS5Y"
      },
      "source": [
        "First, we load our fault networks extracted from a 2-D model over several timesteps:"
      ]
    },
    {
      "cell_type": "code",
      "metadata": {
        "id": "Z1s32vUwl1Pv"
      },
      "source": [
        "Gs = []\n",
        "for n in range(3,50):\n",
        "  Gs.append(pickle.load(open('/content/fault_analysis_toolbox/examples/3-time_stepping/graphs/g_'+ str(n) + '.p', 'rb')))"
      ],
      "execution_count": null,
      "outputs": []
    },
    {
      "cell_type": "markdown",
      "metadata": {
        "id": "WANOe13NoQ8s"
      },
      "source": [
        "Now we can visualize and compare the faults extracted through time:"
      ]
    },
    {
      "cell_type": "code",
      "metadata": {
        "colab": {
          "base_uri": "https://localhost:8080/",
          "height": 301,
          "referenced_widgets": [
            "f76598b67a9744b88df456f5b39a93c2",
            "621a582c4684429aa7c1d5e56420628f",
            "90dd377370d34f3e8e44b40a49d10bef",
            "bdca1f4c0aa94e9c8297be05d1d26043",
            "2bca9ff4e05c45eb99dffabfc6c15f5e",
            "b458ed04e8624de496361fc7dfcd3a6c",
            "0a99318d91a448bd9c12f96e73e2a055"
          ]
        },
        "id": "RHTU5Tnl9okC",
        "outputId": "29243497-f513-410b-d0a5-f39e2a785df7"
      },
      "source": [
        "%matplotlib inline\n",
        "from ipywidgets import interactive, widgets, Layout\n",
        "\n",
        "\n",
        "def f(time):\n",
        "    fig, ax = plt.subplots(figsize=(16,4))\n",
        "    plot_components(Gs[time], ax, label=True)\n",
        "    plt.xlim([1000, 3500])\n",
        "    plt.ylim([600, 0])\n",
        "    plt.show()\n",
        "\n",
        "interactive_plot = interactive(f, time=widgets.IntSlider(min=3, max=49, step=1, layout=Layout(width='900px')))\n",
        "output = interactive_plot.children[-1]\n",
        "output.layout.width = '1000px'\n",
        "interactive_plot\n"
      ],
      "execution_count": null,
      "outputs": []
    },
    {
      "cell_type": "markdown",
      "metadata": {
        "id": "bhHAC9bZFz3g"
      },
      "source": [
        "The faults have different labels in every time steps. That's a result of the extraction, where arbitrary labels are assigned to the faults. To track faults through time, we want these labels to be consistent between time steps. So let's look at two consecutive time steps:"
      ]
    },
    {
      "cell_type": "code",
      "metadata": {
        "colab": {
          "base_uri": "https://localhost:8080/",
          "height": 544
        },
        "id": "IHkFw4-dGg6K",
        "outputId": "5ea665f6-5445-4a14-b29d-c261f47c1719"
      },
      "source": [
        "G_0 = Gs[0]\n",
        "G_1 = Gs[1]\n",
        "\n",
        "fig, ax = plt.subplots(figsize=(16,4))\n",
        "plot_components(G_0, ax, label=True)\n",
        "plt.title('time 0')\n",
        "plt.xlim([1000, 3500])\n",
        "plt.ylim([600, 0])\n",
        "plt.show()\n",
        "\n",
        "fig, ax = plt.subplots(figsize=(16,4))\n",
        "plt.title('time 1')\n",
        "plot_components(G_1, ax, label=True)\n",
        "plt.xlim([1000, 3500])\n",
        "plt.ylim([600, 0])\n",
        "plt.show()"
      ],
      "execution_count": null,
      "outputs": []
    },
    {
      "cell_type": "markdown",
      "metadata": {
        "id": "FESg9XYJG2oX"
      },
      "source": [
        "## Correlate two time steps\n",
        "\n",
        "We can already see that the green fault 12 at time 0 is probably the same as the red fault 13 at time 1. So in order to match them, we will compare all faults between two time steps and re-label them.\n",
        "\n",
        "But first we will introduce a new label. We typically extract faults as components of the graph (i.e. nodes connected to one another). But geological faults can consist of multiple of such components, such as faults 22 and 23 at time 0 - they probably belong to one fault. So let's introduce this new fault label:"
      ]
    },
    {
      "cell_type": "code",
      "metadata": {
        "colab": {
          "base_uri": "https://localhost:8080/"
        },
        "id": "qaD-kfPtId09",
        "outputId": "2134be58-ddfe-4521-df7d-7099e3928c15"
      },
      "source": [
        "for node in G_0:\n",
        "    G_0.nodes[node]['fault'] = G_0.nodes[node]['component']\n",
        "\n",
        "for node in G_1:\n",
        "    G_1.nodes[node]['fault'] = G_1.nodes[node]['component']\n",
        "\n",
        "print(G_0.nodes[0])"
      ],
      "execution_count": null,
      "outputs": []
    },
    {
      "cell_type": "markdown",
      "metadata": {
        "id": "zUR0iExeI0zo"
      },
      "source": [
        "Now each node has an additional property 'fault' that we will re-label later on. But first we want to get the fault labels for the first two time steps:"
      ]
    },
    {
      "cell_type": "code",
      "metadata": {
        "colab": {
          "base_uri": "https://localhost:8080/"
        },
        "id": "skuqueiGJaoM",
        "outputId": "f04757cb-108f-4e42-da96-38a0c19df9f6"
      },
      "source": [
        "def get_fault_labels(G):\n",
        "    labels=set()\n",
        "    for node in G:\n",
        "        labels.add(G.nodes[node]['fault'])\n",
        "    return sorted(list(labels))\n",
        "\n",
        "fault_labels_0 = get_fault_labels(G_0)\n",
        "fault_labels_1 = get_fault_labels(G_1)\n",
        "\n",
        "print(fault_labels_0)"
      ],
      "execution_count": null,
      "outputs": []
    },
    {
      "cell_type": "markdown",
      "metadata": {
        "id": "ztxgB-t1J4o9"
      },
      "source": [
        "You can check that these are all the faults labelled in the image above.\n",
        "\n",
        "Next we want to get the polarities of the faults, i.e. dipping to the left or the right. We computed the polarity during the extraction to help us differentiate cross-cutting faults."
      ]
    },
    {
      "cell_type": "code",
      "metadata": {
        "id": "rpBDVzXEs4Sn",
        "colab": {
          "base_uri": "https://localhost:8080/"
        },
        "outputId": "145a486c-f19b-499a-ba16-f8239bf9e1ca"
      },
      "source": [
        "def get_fault(G, n):\n",
        "    nodes = [node for node in G if G.nodes[node]['fault']==n]\n",
        "    return G.subgraph(nodes)\n",
        "\n",
        "def get_polarity(G):\n",
        "    for node in G:\n",
        "        polarity = G.nodes[node]['polarity']\n",
        "        break\n",
        "    return polarity\n",
        "\n",
        "def get_fault_polarities(G):\n",
        "    labels = get_fault_labels(G)\n",
        "    polarities=[]\n",
        "    for label in labels:            \n",
        "        G_fault = get_fault(G, label)\n",
        "        polarities.append(get_polarity(G_fault))\n",
        "    return polarities\n",
        "\n",
        "fault_polarities_0 = get_fault_polarities(G_0)\n",
        "fault_polarities_1 = get_fault_polarities(G_1)\n",
        "\n",
        "print('faults')\n",
        "print(fault_labels_0)\n",
        "print('polarities')\n",
        "print(fault_polarities_0)"
      ],
      "execution_count": null,
      "outputs": []
    },
    {
      "cell_type": "markdown",
      "metadata": {
        "id": "_YjM70XKLqem"
      },
      "source": [
        "Let's check if these polarities are correct:"
      ]
    },
    {
      "cell_type": "code",
      "metadata": {
        "colab": {
          "base_uri": "https://localhost:8080/",
          "height": 544
        },
        "id": "Hob_RPPQKpRP",
        "outputId": "0b992149-4d56-4a69-fd5e-7d2c04e490bc"
      },
      "source": [
        "fig, ax = plt.subplots(figsize=(16,4))\n",
        "plot_components(G_0, ax, label=True)\n",
        "plt.title('faults')\n",
        "plt.xlim([1000, 3500])\n",
        "plt.ylim([600, 0])\n",
        "plt.show()\n",
        "\n",
        "fig, ax = plt.subplots(figsize=(17.5,4))\n",
        "plot_attribute(G_0, 'polarity', ax)\n",
        "plt.title('polarities')\n",
        "plt.xlim([1000, 3500])\n",
        "plt.ylim([600, 0])\n",
        "plt.show()"
      ],
      "execution_count": null,
      "outputs": []
    },
    {
      "cell_type": "markdown",
      "metadata": {
        "id": "asdQEPVxMCcS"
      },
      "source": [
        "Looks alright! Now let's convert our graphs to point clouds, which we can compare easily:"
      ]
    },
    {
      "cell_type": "code",
      "metadata": {
        "id": "zqlQJGznLCAa"
      },
      "source": [
        "def G_to_pts(G):\n",
        "    labels = get_fault_labels(G)\n",
        "    point_set=[]\n",
        "    for label in labels:            \n",
        "        G_fault = get_fault(G, label)\n",
        "        points = []\n",
        "        for node in G_fault:\n",
        "            points.append(G_fault.nodes[node]['pos'])\n",
        "        point_set.append(points)\n",
        "    return point_set\n",
        "\n",
        "pt_set_0 = G_to_pts(G_0)\n",
        "pt_set_1 = G_to_pts(G_1)"
      ],
      "execution_count": null,
      "outputs": []
    },
    {
      "cell_type": "markdown",
      "metadata": {
        "id": "Fw2zGY-VMmVH"
      },
      "source": [
        "Now it's getting interesting. To correlate faults across time steps, we want to check if a fault from the time step 0 is within a fault from time step 1 and vice versa. This allows us to correlate faults even if they merge or split up. We do this by:\n",
        "\n",
        "1.   Calculating the distance matrix between each node of fault A and B, i.e. the point clouds\n",
        "2.   Calculating the minimum distance of the closest nodes\n",
        "3.   Computing the mean of these distances\n",
        "4.   Using a threshold radius R to decide whether a fault A is within fault B\n",
        "\n"
      ]
    },
    {
      "cell_type": "code",
      "metadata": {
        "id": "bZo7SCWsMbB9"
      },
      "source": [
        "def is_A_in_B(set_A, set_B, R):    \n",
        "      distances = np.zeros((len(set_A), len(set_B)))\n",
        "      for n, pt_0 in enumerate(set_A):\n",
        "          for m, pt_1 in enumerate(set_B):\n",
        "              distances[n,m] = math.sqrt((pt_0[0]-pt_1[0])**2 + (pt_0[1]-pt_1[1])**2)\n",
        "      if np.mean(np.min(distances, axis=1)) > R:\n",
        "          return False\n",
        "      else:\n",
        "          return True"
      ],
      "execution_count": null,
      "outputs": []
    },
    {
      "cell_type": "markdown",
      "metadata": {
        "id": "zZIm3VRUOP6O"
      },
      "source": [
        "Now we use this function for all faults with the same polarities and in both directions (i.e. A is in B, B is in A) between the two time steps:"
      ]
    },
    {
      "cell_type": "code",
      "metadata": {
        "colab": {
          "base_uri": "https://localhost:8080/"
        },
        "id": "b-dy-CYeOO-L",
        "outputId": "f04ce1e3-8abe-4198-e7c2-93bba20f207c"
      },
      "source": [
        "R = 10\n",
        "\n",
        "correlations = set()\n",
        "for n in range(len(fault_labels_0)):\n",
        "    for m in range(len(fault_labels_1)):\n",
        "        if fault_polarities_0[n] == fault_polarities_1[m]:\n",
        "            if is_A_in_B(pt_set_0[n], pt_set_1[m], R):\n",
        "                correlations.add((fault_labels_0[n], fault_labels_1[m]))\n",
        "            if is_A_in_B(pt_set_1[m], pt_set_0[n], R):\n",
        "                correlations.add((fault_labels_0[n], fault_labels_1[m])) \n",
        "\n",
        "print(correlations)"
      ],
      "execution_count": null,
      "outputs": []
    },
    {
      "cell_type": "markdown",
      "metadata": {
        "id": "bAxhnf_UPBxq"
      },
      "source": [
        "We can check if the correlations, we derived are correct. The third correlation for example says that fault 3 at time 0 is the same as fault 0 at time 1. Is that correct?"
      ]
    },
    {
      "cell_type": "code",
      "metadata": {
        "colab": {
          "base_uri": "https://localhost:8080/",
          "height": 544
        },
        "id": "QZUYvq-7Oq5P",
        "outputId": "fcb73d2d-b963-4369-b5dd-86e1d80479be"
      },
      "source": [
        "fig, ax = plt.subplots(figsize=(16,4))\n",
        "plot_components(G_0, ax, label=True)\n",
        "plt.title('time 0')\n",
        "plt.xlim([1000, 3500])\n",
        "plt.ylim([600, 0])\n",
        "plt.show()\n",
        "\n",
        "fig, ax = plt.subplots(figsize=(16,4))\n",
        "plt.title('time 1')\n",
        "plot_components(G_1, ax, label=True)\n",
        "plt.xlim([1000, 3500])\n",
        "plt.ylim([600, 0])\n",
        "plt.show()"
      ],
      "execution_count": null,
      "outputs": []
    },
    {
      "cell_type": "markdown",
      "metadata": {
        "id": "d4ur4JkLPzgD"
      },
      "source": [
        "Yeah, looks right! So let's relabel these faults consistently using these correlations. When doing this we need to keep track of the faults, we've correlated. To do this, we first set them all to uncorrelated:"
      ]
    },
    {
      "cell_type": "code",
      "metadata": {
        "id": "mX_vbMakPLz9"
      },
      "source": [
        "for node in G_1:\n",
        "    G_1.nodes[node]['correlated']=False"
      ],
      "execution_count": null,
      "outputs": []
    },
    {
      "cell_type": "markdown",
      "metadata": {
        "id": "Ac3vcMmOQeuM"
      },
      "source": [
        "Next, we sort the correlations by fault length, so that when two faults merge, we preserve the larger one."
      ]
    },
    {
      "cell_type": "code",
      "metadata": {
        "id": "gEJvPqS4QrE1"
      },
      "source": [
        "lengths = [total_length(get_fault(G_0, correlation[0])) for correlation in correlations]\n",
        "lengths, correlations = zip(*sorted(zip(lengths, correlations)))"
      ],
      "execution_count": null,
      "outputs": []
    },
    {
      "cell_type": "markdown",
      "metadata": {
        "id": "QaMJ7kX7Q46U"
      },
      "source": [
        "Remember you can find all functions such as `total_length` in the folder:\n",
        "\n",
        "https://github.com/thilowrona/fault_analysis_toolbox/tree/master/code"
      ]
    },
    {
      "cell_type": "markdown",
      "metadata": {
        "id": "p5p7RVCMRcuD"
      },
      "source": [
        "Now we relabel the faults using correlations:"
      ]
    },
    {
      "cell_type": "code",
      "metadata": {
        "id": "xu8lSxiIQ1Uu"
      },
      "source": [
        "for node in G_1:\n",
        "    for correlation in correlations:\n",
        "        if G_1.nodes[node]['component'] == correlation[1]:\n",
        "            G_1.nodes[node]['fault'] = correlation[0]\n",
        "            G_1.nodes[node]['correlated'] = True"
      ],
      "execution_count": null,
      "outputs": []
    },
    {
      "cell_type": "markdown",
      "metadata": {
        "id": "fwXp6M3WRudx"
      },
      "source": [
        "Finally, we relabel the uncorrelated faults to avoid confusion:"
      ]
    },
    {
      "cell_type": "code",
      "metadata": {
        "id": "qiObNXfpRsJT"
      },
      "source": [
        "max_comp = max(get_fault_labels(G_1))\n",
        "\n",
        "G_1_sub = nx.subgraph(G_1, [node for node in G_1 if G_1.nodes[node]['correlated']==False])  \n",
        "for label, cc in enumerate(sorted(nx.connected_components(G_1_sub))): \n",
        "    for n in cc:\n",
        "        G_1.nodes[n]['fault'] = label+max_comp+1"
      ],
      "execution_count": null,
      "outputs": []
    },
    {
      "cell_type": "markdown",
      "metadata": {
        "id": "6rnlLcTfSL-c"
      },
      "source": [
        "Now let's check if it worked:"
      ]
    },
    {
      "cell_type": "code",
      "metadata": {
        "colab": {
          "base_uri": "https://localhost:8080/",
          "height": 544
        },
        "id": "j3npAhc-R-fw",
        "outputId": "db368088-e6bc-4fae-b300-0ed798b7239a"
      },
      "source": [
        "fig, ax = plt.subplots(figsize=(16,4))\n",
        "plot_faults(G_0, ax, label=True)\n",
        "plt.title('time 0')\n",
        "plt.xlim([1000, 3500])\n",
        "plt.ylim([600, 0])\n",
        "plt.show()\n",
        "\n",
        "fig, ax = plt.subplots(figsize=(16,4))\n",
        "plt.title('time 1')\n",
        "plot_faults(G_1, ax, label=True)\n",
        "plt.xlim([1000, 3500])\n",
        "plt.ylim([600, 0])\n",
        "plt.show()"
      ],
      "execution_count": null,
      "outputs": []
    },
    {
      "cell_type": "markdown",
      "metadata": {
        "id": "4dRJu8ASSQMb"
      },
      "source": [
        "Awesome! It worked! You can see that faults in the same location have the same label."
      ]
    },
    {
      "cell_type": "markdown",
      "metadata": {
        "id": "3LLz7hc9SqGD"
      },
      "source": [
        "## Correlate multiple time steps\n",
        "Alright, let's do this for all 50 time steps:"
      ]
    },
    {
      "cell_type": "code",
      "metadata": {
        "colab": {
          "base_uri": "https://localhost:8080/"
        },
        "id": "OFv3SFGvSICz",
        "outputId": "339fe2fa-09bc-4f81-eda8-2c19b3eca4d5"
      },
      "source": [
        "max_comp = 0\n",
        "\n",
        "for time in tqdm(range(len(Gs)-1)):\n",
        "\n",
        "  G_0 = Gs[time]\n",
        "  G_1 = Gs[time+1]\n",
        "\n",
        "  if n == 0:\n",
        "    for node in G_0:\n",
        "      G_0.nodes[node]['fault'] = G_0.nodes[node]['component']   \n",
        "    Gs[time] = G_0\n",
        "  \n",
        "  for node in G_1:\n",
        "      G_1.nodes[node]['fault'] = G_1.nodes[node]['component']\n",
        "\n",
        "\n",
        "  # Correlation\n",
        "  fault_labels_0 = get_fault_labels(G_0)\n",
        "  fault_labels_1 = get_fault_labels(G_1)\n",
        "  \n",
        "  fault_polarities_0 = get_fault_polarities(G_0)\n",
        "  fault_polarities_1 = get_fault_polarities(G_1)\n",
        "  \n",
        "  pt_set_0 = G_to_pts(G_0)\n",
        "  pt_set_1 = G_to_pts(G_1)\n",
        "\n",
        "\n",
        "  R = 10\n",
        "  correlations = set()\n",
        "  for n in range(len(fault_labels_0)):\n",
        "      for m in range(len(fault_labels_1)):\n",
        "          if fault_polarities_0[n] == fault_polarities_1[m]:\n",
        "              if is_A_in_B(pt_set_0[n], pt_set_1[m], R):\n",
        "                  correlations.add((fault_labels_0[n], fault_labels_1[m]))\n",
        "              if is_A_in_B(pt_set_1[m], pt_set_0[n], R):\n",
        "                  correlations.add((fault_labels_0[n], fault_labels_1[m]))   \n",
        "\n",
        "\n",
        "  # Relabel\n",
        "  for node in G_1:\n",
        "      G_1.nodes[node]['correlated']=False\n",
        "\n",
        "  lengths = [total_length(get_fault(G_0, correlation[0])) for correlation in correlations]\n",
        "  lengths, correlations = zip(*sorted(zip(lengths, correlations)))\n",
        "\n",
        "  for node in G_1:\n",
        "      for correlation in correlations:\n",
        "          if G_1.nodes[node]['component'] == correlation[1]:\n",
        "              G_1.nodes[node]['fault'] = correlation[0]\n",
        "              G_1.nodes[node]['correlated'] = True\n",
        "\n",
        "  max_comp = max(get_fault_labels(G_1))\n",
        "\n",
        "  G_1_sub = nx.subgraph(G_1, [node for node in G_1 if G_1.nodes[node]['correlated']==False])  \n",
        "  for label, cc in enumerate(sorted(nx.connected_components(G_1_sub))): \n",
        "      for n in cc:\n",
        "          G_1.nodes[n]['fault'] = label+max_comp+1\n",
        "  \n",
        "\n",
        "  Gs[time+1] = G_1\n"
      ],
      "execution_count": null,
      "outputs": []
    },
    {
      "cell_type": "markdown",
      "metadata": {
        "id": "gyFPG9gS37L_"
      },
      "source": [
        "and let's look at the results:"
      ]
    },
    {
      "cell_type": "code",
      "metadata": {
        "colab": {
          "base_uri": "https://localhost:8080/",
          "height": 301,
          "referenced_widgets": [
            "53e0a53d1bca4d44b7e86541a9bba734",
            "e528505ba2ea404693c3d16240c97a64",
            "ae3770043c6a48b3b0c270245fe3dff0",
            "3a2c57baac0548299ec861b41943e665",
            "fc6f32163e4b47e98c21af6ad08191f4",
            "0412fc87ca144e8e854fd063e16b305e",
            "4bc411e7ec6d427abb452bc0ac5ce27c"
          ]
        },
        "id": "LLyDXQ2-1bT-",
        "outputId": "edfbbf17-e8eb-4154-bad0-b20948c6fc04"
      },
      "source": [
        "%matplotlib inline\n",
        "from ipywidgets import interactive, widgets, Layout\n",
        "\n",
        "\n",
        "def f(time):\n",
        "    fig, ax = plt.subplots(figsize=(16,4))\n",
        "    plot_faults(Gs[time], ax, label=True)\n",
        "    plt.xlim([1000, 3500])\n",
        "    plt.ylim([600, 0])\n",
        "    plt.show()\n",
        "\n",
        "interactive_plot = interactive(f, time=widgets.IntSlider(min=3, max=49, step=1, layout=Layout(width='900px')))\n",
        "output = interactive_plot.children[-1]\n",
        "output.layout.width = '1000px'\n",
        "interactive_plot"
      ],
      "execution_count": null,
      "outputs": []
    },
    {
      "cell_type": "markdown",
      "metadata": {
        "id": "Z1ja5udI4Bag"
      },
      "source": [
        "Fantastic! Now that we have correlated the faults, we can compute slip and displacement through time to investigate the growth of these faults. The next tutorial shows how to calculate fault slip from velocities."
      ]
    }
  ]
}