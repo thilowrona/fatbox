{
  "nbformat": 4,
  "nbformat_minor": 0,
  "metadata": {
    "colab": {
      "name": "1-fault_extraction.ipynb",
      "provenance": [],
      "collapsed_sections": [],
      "toc_visible": true
    },
    "kernelspec": {
      "name": "python38264bit102463ac686041a695987f2a94c796d4",
      "display_name": "Python 3.8.6 64-bit"
    },
    "metadata": {
      "interpreter": {
        "hash": "3734dfd4db4ecefc9d41f3190f353a002706f1d1c09a9498e7ea1b22030d347c"
      }
    }
  },
  "cells": [
    {
      "cell_type": "markdown",
      "metadata": {
        "id": "M8WsE8ikugs3"
      },
      "source": [
        "# Example 1: 2-D fault network extraction from a numerical model\n",
        "This example describes how to extract a 2-D fault network from a numerical model simulating continental rifting. This example is based on the study of Naliboff et al. (2020)."
      ]
    },
    {
      "cell_type": "markdown",
      "metadata": {
        "id": "_wnqah3PvRhD"
      },
      "source": [
        "## Setup\n",
        "\n",
        "1. First, you will need sign in to your Google account. If you're not signed in, you can sign in [here](https://myaccount.google.com/?utm_source=sign_in_no_continue)\n",
        "2. Next, head on to the [Colab Welcome Page](https://colab.research.google.com/notebooks/welcome.ipynb#recent=true).\n",
        "3. There, select Github in the top tab and search for: https://github.com/thilowrona/fault_analysis_toolbox/blob/master/examples/1-fault_extraction/1-fault_extraction.ipynb\n",
        "4. Clicking opens this notebook. This is a Jupyter notebook; an awesome combination of code and documentation allowing us work on, describe and share our projects.\n",
        "5. When you run the first cell, you will face a pop-up saying ‘Warning: This notebook was not authored by Google’; you should click on ‘Run Anyway’ to get rid of the warning.\n",
        "6. Next we want to save our notebook. If you click on ‘File’ and then ‘Save’, you will see a pop-up saying ´CANNOT SAVE CHANGES´. Now, click on ‘SAVE A COPY IN DRIVE’. This opens up a new tab with the same file, but this time located in your Drive. If you want to continue working after saving, use the file in the new tab. Your notebook will be saved in a folder called Colab Notebooks in your Google Drive by default."
      ]
    },
    {
      "cell_type": "markdown",
      "metadata": {
        "id": "uLMyh4JWwFRq"
      },
      "source": [
        "## Load packages\n",
        "To run the toolbox, we will need a couple of packages including the toolbox itself. So let's install them:"
      ]
    },
    {
      "source": [
        "!git clone https://github.com/thilowrona/fault_analysis_toolbox"
      ],
      "cell_type": "markdown",
      "metadata": {
        "id": "8umzJV2qwtEw",
        "colab": {
          "base_uri": "https://localhost:8080/"
        },
        "outputId": "0a99ee5f-5b47-4d19-a5d9-c7101e40593a"
      }
    },
    {
      "source": [
        "!pip3 install vtk\n",
        "\n",
        "!pip3 install git+https://github.com/ulikoehler/cv_algorithms.git\n",
        "\n",
        "!pip3 install git+https://github.com/MRudey/fault_analysis_toolbox.git"
      ],
      "cell_type": "markdown",
      "metadata": {
        "colab": {
          "base_uri": "https://localhost:8080/"
        },
        "id": "pgN89-u56Tdl",
        "outputId": "b3c81dec-523a-43c0-a091-60eb5009d149"
      }
    },
    {
      "cell_type": "markdown",
      "metadata": {
        "id": "OhqvKEkew-Qb"
      },
      "source": [
        "Now we can load the python packages:"
      ]
    },
    {
      "cell_type": "code",
      "metadata": {
        "id": "YlR6sp36t4Ag"
      },
      "source": [
        "import matplotlib.pyplot as plt\n",
        "import networkx as nx\n",
        "import numpy as np\n",
        "from scipy.spatial import distance_matrix\n",
        "from tqdm import tqdm"
      ],
      "execution_count": null,
      "outputs": []
    },
    {
      "cell_type": "markdown",
      "metadata": {
        "id": "wZilTT2YxyMd"
      },
      "source": [
        "and the functions from the fault analysis toolbox that we want to use:"
      ]
    },
    {
      "cell_type": "code",
      "metadata": {
        "id": "GK67NWzRxv8y"
      },
      "source": [
        "from faultanalysistoolbox.edits import array_to_points, label_components\n",
        "from faultanalysistoolbox.image_processing import guo_hall\n",
        "from faultanalysistoolbox.plots import plot_components"
      ],
      "execution_count": null,
      "outputs": []
    },
    {
      "cell_type": "markdown",
      "metadata": {
        "id": "0g4ix_pTyDMK"
      },
      "source": [
        "## Fault extraction"
      ]
    },
    {
      "cell_type": "markdown",
      "metadata": {
        "id": "MknzhRqNyS5Y"
      },
      "source": [
        "First, we load our data - a strain rate map extracted just below the surface of the model:"
      ]
    },
    {
      "cell_type": "code",
      "metadata": {
        "id": "d7L7JUyYuzdD"
      },
      "source": [
        "# path = '/content/fault_analysis_toolbox/examples/example-1/NearSurfaceIsotherm_335K_strain_rate.npy'\n",
        "path = '/home/mrudolf/Nextcloud/GitRepos/fault_analysis_toolbox/examples/1-fault_extraction/NearSurfaceIsotherm_335K_strain_rate.npy'\n",
        "strain_rate = np.load(\n",
        "    path\n",
        ")"
      ],
      "execution_count": null,
      "outputs": []
    },
    {
      "cell_type": "markdown",
      "metadata": {
        "id": "43KGKmeMypzT"
      },
      "source": [
        "Now we can plot it to look the faults in the model"
      ]
    },
    {
      "cell_type": "code",
      "metadata": {
        "id": "CnbDS97_xoDb",
        "colab": {
          "base_uri": "https://localhost:8080/",
          "height": 700
        },
        "outputId": "1f228761-1708-4a26-91f8-522bc14d3e62"
      },
      "source": [
        "plt.figure(figsize=(12,12))\n",
        "plt.title('Strain rate')\n",
        "plt.imshow(strain_rate, vmin=0)\n",
        "plt.colorbar()\n",
        "plt.show()"
      ],
      "execution_count": null,
      "outputs": []
    },
    {
      "cell_type": "markdown",
      "metadata": {
        "id": "dl6QD3dtzfyJ"
      },
      "source": [
        "Next we want to separate the faults from the background using a threshold:"
      ]
    },
    {
      "cell_type": "code",
      "metadata": {
        "id": "1MjLLky5x99x",
        "colab": {
          "base_uri": "https://localhost:8080/",
          "height": 699
        },
        "outputId": "d03140ed-02bc-497b-f89a-d7611e7a3963"
      },
      "source": [
        "threshold = np.where(strain_rate > 1.5e-14, 1, 0).astype(np.uint8)\n",
        "\n",
        "plt.figure(figsize=(12,12))\n",
        "plt.title('Threshold')\n",
        "plt.imshow(threshold)\n",
        "plt.axis('off')\n",
        "plt.show()"
      ],
      "execution_count": null,
      "outputs": []
    },
    {
      "cell_type": "markdown",
      "metadata": {
        "id": "d7dBFJwAzwGR"
      },
      "source": [
        "Now we can reduce the areas above the threshold to lines using a skeletonize algorithm:"
      ]
    },
    {
      "cell_type": "code",
      "metadata": {
        "id": "hOBLAEQt1ISq",
        "colab": {
          "base_uri": "https://localhost:8080/",
          "height": 699
        },
        "outputId": "113ada2a-f39e-4a8d-ba86-b6af50b96f32"
      },
      "source": [
        "skeleton = guo_hall(threshold)\n",
        "\n",
        "plt.figure(figsize=(12,12))\n",
        "plt.title('Skeleton')\n",
        "plt.imshow(skeleton)\n",
        "plt.axis('off')\n",
        "plt.show()"
      ],
      "execution_count": null,
      "outputs": []
    },
    {
      "cell_type": "markdown",
      "metadata": {
        "id": "NVOphW1C0I8d"
      },
      "source": [
        "Now we can convert these lines to points:"
      ]
    },
    {
      "cell_type": "code",
      "metadata": {
        "id": "LZJ0NFMm55Js"
      },
      "source": [
        "points = array_to_points(skeleton)"
      ],
      "execution_count": null,
      "outputs": []
    },
    {
      "cell_type": "markdown",
      "metadata": {
        "id": "KbXDMEgJ0Nvn"
      },
      "source": [
        "These points become the nodes of our graph G:"
      ]
    },
    {
      "cell_type": "code",
      "metadata": {
        "id": "ISY_xP6o6rwp"
      },
      "source": [
        "G = nx.Graph()\n",
        "\n",
        "for node, point in enumerate(points):\n",
        "    G.add_node(node)\n",
        "    G.nodes[node]['pos'] = point"
      ],
      "execution_count": null,
      "outputs": []
    },
    {
      "cell_type": "markdown",
      "metadata": {
        "id": "WzRSf2Z7Vh80"
      },
      "source": [
        "Remember a graph is an object consisting only of nodes and edges. Our graph for example looks like this:"
      ]
    },
    {
      "cell_type": "code",
      "metadata": {
        "colab": {
          "base_uri": "https://localhost:8080/",
          "height": 699
        },
        "id": "C7VYrzUBVXPE",
        "outputId": "584fbc57-5a65-4569-d8fd-4359a8ff4302"
      },
      "source": [
        "fig, axs = plt.subplots(1, 2, figsize=(20,12))\n",
        "\n",
        "axs[0].set_title('Network')\n",
        "nx.draw(G, \n",
        "        pos=nx.get_node_attributes(G, 'pos'), \n",
        "        node_size=1,\n",
        "        ax=axs[0])\n",
        "axs[0].axis('equal')\n",
        "\n",
        "\n",
        "axs[1].set_title('Zoom in')\n",
        "nx.draw(G, \n",
        "        pos=nx.get_node_attributes(G, 'pos'), \n",
        "        node_size=1,\n",
        "        ax=axs[1])\n",
        "axs[1].axis('equal')\n",
        "axs[1].set_ylim([500, 600])\n",
        "\n",
        "plt.show()"
      ],
      "execution_count": null,
      "outputs": []
    },
    {
      "cell_type": "markdown",
      "metadata": {
        "id": "Y3lAIV5s1L6x"
      },
      "source": [
        "You can see that the graph only consists of closely spaced points, which are not yet connected. So let's change that!\n",
        "\n",
        "\n",
        "We calculate the distance between all nodes in a distance matrix and connect the ones close to each other (<1.5 pixels away):"
      ]
    },
    {
      "cell_type": "code",
      "metadata": {
        "id": "mIJDBHt762Dg",
        "colab": {
          "base_uri": "https://localhost:8080/"
        },
        "outputId": "f6a5389d-71d1-4494-92a3-46cd707a7c73"
      },
      "source": [
        "dm = distance_matrix(points, points) \n",
        "\n",
        "# print(str(points.shape[0]) + ' Points')\n",
        "for n in tqdm(range(points.shape[0]), desc='Connecting Points'):\n",
        "    # stdout.write(\"\\r%d\" % n)\n",
        "    # stdout.flush()\n",
        "    for m in range(points.shape[0]):\n",
        "        if dm[n, m] < 1.5 and n != m:\n",
        "            G.add_edge(n, m)"
      ],
      "execution_count": null,
      "outputs": []
    },
    {
      "cell_type": "code",
      "metadata": {
        "colab": {
          "base_uri": "https://localhost:8080/",
          "height": 699
        },
        "id": "BCcgg8j9YkUo",
        "outputId": "0696194f-6034-4d5a-a370-384f59eefc0a"
      },
      "source": [
        "fig, axs = plt.subplots(1, 2, figsize=(20,12))\n",
        "\n",
        "axs[0].set_title('Graph')\n",
        "nx.draw(G, \n",
        "        pos=nx.get_node_attributes(G, 'pos'), \n",
        "        node_size=1,\n",
        "        ax=axs[0])\n",
        "axs[0].axis('equal')\n",
        "\n",
        "\n",
        "axs[1].set_title('Zoom in')\n",
        "nx.draw(G, \n",
        "        pos=nx.get_node_attributes(G, 'pos'), \n",
        "        node_size=1,\n",
        "        ax=axs[1])\n",
        "axs[1].axis('equal')\n",
        "axs[1].set_ylim([500, 600])\n",
        "\n",
        "plt.show()"
      ],
      "execution_count": null,
      "outputs": []
    },
    {
      "cell_type": "markdown",
      "metadata": {
        "id": "f1sibH6lZBpy"
      },
      "source": [
        "Now we can see that neighboring nodes are connected by edges (black lines). This allows us to label the nodes connected to one another as components:"
      ]
    },
    {
      "cell_type": "code",
      "metadata": {
        "id": "8sn4ES-z7BBX",
        "colab": {
          "base_uri": "https://localhost:8080/",
          "height": 716
        },
        "outputId": "c38ae24e-a6a0-43aa-a726-999eefdd7df3"
      },
      "source": [
        "G = label_components(G)\n",
        "\n",
        "fig, axs = plt.subplots(1, 1, figsize=(12,12))\n",
        "axs.imshow(strain_rate, 'gray_r', vmin=0)\n",
        "plot_components(G, axs, label=True)\n",
        "plt.title('Strain rate with fault network')\n",
        "plt.show()"
      ],
      "execution_count": null,
      "outputs": []
    },
    {
      "cell_type": "markdown",
      "metadata": {
        "id": "yvd5DfAH2wNN"
      },
      "source": [
        "When we zoom in, we can see the nodes colored by their component and the edges connecting them:"
      ]
    },
    {
      "cell_type": "code",
      "metadata": {
        "id": "WW9I2csD7Xji",
        "colab": {
          "base_uri": "https://localhost:8080/",
          "height": 716
        },
        "outputId": "a5c25df0-7b0d-4bcd-d02a-ebe587ff2ea3"
      },
      "source": [
        "fig, axs = plt.subplots(1, 1, figsize=(12,12))\n",
        "axs.imshow(strain_rate, 'gray_r', vmin=0)\n",
        "plot_components(G, axs, label=False)\n",
        "axs.set_xlim([250, 450])\n",
        "axs.set_ylim([400, 600])\n",
        "plt.title('Strain rate with fault network')\n",
        "plt.show()"
      ],
      "execution_count": null,
      "outputs": []
    },
    {
      "cell_type": "markdown",
      "metadata": {
        "id": "xfcGvpvIUH_e"
      },
      "source": [
        "## Structure of the network\n",
        "Let's have a look at the structure of the fault network (or graph). Remember it only consists of nodes and edges. So let's have a look at the nodes:"
      ]
    },
    {
      "cell_type": "code",
      "metadata": {
        "colab": {
          "base_uri": "https://localhost:8080/"
        },
        "id": "LKzKDDf5T_be",
        "outputId": "0bb838f9-d835-422a-9c35-609ef2ca8510",
        "tags": [
          "outputPrepend"
        ]
      },
      "source": [
        "print(G.nodes)"
      ],
      "execution_count": null,
      "outputs": []
    },
    {
      "cell_type": "markdown",
      "metadata": {
        "id": "g-cQlO48Zlhk"
      },
      "source": [
        "Okay, nothing special here, just a list of the nodes. Let's pick out one:"
      ]
    },
    {
      "cell_type": "code",
      "metadata": {
        "colab": {
          "base_uri": "https://localhost:8080/"
        },
        "id": "eNqv1ggAUFr5",
        "outputId": "86eaba9f-d08e-4124-8534-000f7b23a448"
      },
      "source": [
        "print(G.nodes[0])"
      ],
      "execution_count": null,
      "outputs": []
    },
    {
      "cell_type": "markdown",
      "metadata": {
        "id": "fh-MbzOSZ9_p"
      },
      "source": [
        "Alright, we can see the position of the node and the component it belongs to. Let's say we want to give it an extra property, e.g. the strain rate at its location:"
      ]
    },
    {
      "cell_type": "code",
      "metadata": {
        "id": "EJbfd0VEZzWB"
      },
      "source": [
        "G.nodes[0]['strain_rate'] = strain_rate[int(G.nodes[0]['pos'][1]), int(G.nodes[0]['pos'][0])]"
      ],
      "execution_count": null,
      "outputs": []
    },
    {
      "cell_type": "code",
      "metadata": {
        "colab": {
          "base_uri": "https://localhost:8080/"
        },
        "id": "njYESEbUacWc",
        "outputId": "e171153a-764c-43aa-c09d-55d95fa2cfb9"
      },
      "source": [
        "print(G.nodes[0])"
      ],
      "execution_count": null,
      "outputs": []
    },
    {
      "cell_type": "markdown",
      "metadata": {
        "id": "nc_4sc3ma6TV"
      },
      "source": [
        "Nice! Let's do that for all nodes:"
      ]
    },
    {
      "cell_type": "code",
      "metadata": {
        "id": "O7RE2RqkagNu"
      },
      "source": [
        "for node in G.nodes:\n",
        "  G.nodes[node]['strain_rate'] = strain_rate[int(G.nodes[node]['pos'][1]), int(G.nodes[node]['pos'][0])]"
      ],
      "execution_count": null,
      "outputs": []
    },
    {
      "cell_type": "markdown",
      "metadata": {
        "id": "lCIKy4lib5Sz"
      },
      "source": [
        "and plot it:"
      ]
    },
    {
      "cell_type": "code",
      "metadata": {
        "colab": {
          "base_uri": "https://localhost:8080/",
          "height": 699
        },
        "id": "xXYb39VkbC_Y",
        "outputId": "ad78709d-0a94-4128-e876-f4f2f93c3266"
      },
      "source": [
        "fig, ax = plt.subplots(figsize=(20,12))\n",
        "\n",
        "ax.set_title('Fault network with strain rate')\n",
        "nx.draw(G, \n",
        "        pos=nx.get_node_attributes(G, 'pos'),\n",
        "        node_color = np.array([G.nodes[node]['strain_rate'] for node in G.nodes]), \n",
        "        node_size=1,\n",
        "        ax=ax)\n",
        "ax.axis('equal')\n",
        "plt.show()"
      ],
      "execution_count": null,
      "outputs": []
    },
    {
      "cell_type": "markdown",
      "metadata": {
        "id": "HQf9YumOcJce"
      },
      "source": [
        "Like this we can compute and visualize all kinds of properties on the fault network.\n",
        "\n",
        "But what about the edges?"
      ]
    },
    {
      "cell_type": "code",
      "metadata": {
        "colab": {
          "base_uri": "https://localhost:8080/"
        },
        "id": "RkwqSEhXbMBy",
        "outputId": "2f24539c-ae40-4a9e-988d-b87b45746115",
        "tags": [
          "outputPrepend"
        ]
      },
      "source": [
        "print(G.edges)"
      ],
      "execution_count": null,
      "outputs": []
    },
    {
      "cell_type": "markdown",
      "metadata": {
        "id": "gZrWiyCNdNKg"
      },
      "source": [
        "Alright, just tuples of nodes. Let's pick one:"
      ]
    },
    {
      "cell_type": "code",
      "metadata": {
        "colab": {
          "base_uri": "https://localhost:8080/"
        },
        "id": "gV2ISVe6cgQV",
        "outputId": "efb4c582-00d7-4c8b-857c-9cc36d49a803"
      },
      "source": [
        "print(G.edges[(0, 5)])"
      ],
      "execution_count": null,
      "outputs": []
    },
    {
      "cell_type": "markdown",
      "metadata": {
        "id": "lLG85Ul-dfiq"
      },
      "source": [
        "Okay, they have no property yet. Let's calculate its length:"
      ]
    },
    {
      "cell_type": "code",
      "metadata": {
        "id": "j15qK9mVdWwf"
      },
      "source": [
        "edge = (0, 5)\n",
        "G.edges[edge]['length'] = np.linalg.norm(G.nodes[edge[0]]['pos']-G.nodes[edge[1]]['pos'])"
      ],
      "execution_count": null,
      "outputs": []
    },
    {
      "cell_type": "code",
      "metadata": {
        "colab": {
          "base_uri": "https://localhost:8080/"
        },
        "id": "FXB0zmbFeCJu",
        "outputId": "ad9723d6-2bf5-4da6-b7f0-6af7da45b92a"
      },
      "source": [
        "print(G.edges[(0, 5)])"
      ],
      "execution_count": null,
      "outputs": []
    },
    {
      "cell_type": "markdown",
      "metadata": {
        "id": "eIbaQMs7e0e_"
      },
      "source": [
        "Again, we can do this for all edges:"
      ]
    },
    {
      "cell_type": "code",
      "metadata": {
        "id": "ULybIDCoegFP"
      },
      "source": [
        "for edge in G.edges:\n",
        "  G.edges[edge]['length'] = np.linalg.norm(G.nodes[edge[0]]['pos']-G.nodes[edge[1]]['pos'])"
      ],
      "execution_count": null,
      "outputs": []
    },
    {
      "cell_type": "markdown",
      "metadata": {
        "id": "4agYilQWe71q"
      },
      "source": [
        "and plot it:"
      ]
    },
    {
      "cell_type": "code",
      "metadata": {
        "colab": {
          "base_uri": "https://localhost:8080/",
          "height": 699
        },
        "id": "HAGQpXfie6aM",
        "outputId": "3ddac3c5-8c3b-44b0-8d6b-6dfa686beb4b"
      },
      "source": [
        "fig, ax = plt.subplots(figsize=(20,12))\n",
        "\n",
        "ax.set_title('Fault network with edge lenghts')\n",
        "nx.draw(G, \n",
        "        pos=nx.get_node_attributes(G, 'pos'),\n",
        "        edge_color = np.array([G.edges[edge]['length'] for edge in G.edges]), \n",
        "        node_size=0.001,\n",
        "        ax=ax)\n",
        "ax.axis('equal')\n",
        "plt.show()"
      ],
      "execution_count": null,
      "outputs": []
    },
    {
      "cell_type": "markdown",
      "metadata": {
        "id": "xQ6DrCcCfnhr"
      },
      "source": [
        "Awesome! That's it. You've extracted your first fault network. In the next tutorial, we will learn how to compute and visualize fault strikes:\n",
        "https://github.com/thilowrona/fault_analysis_toolbox/blob/master/examples/2-fault_properties/2-fault_properties.ipynb "
      ]
    }
  ]
}