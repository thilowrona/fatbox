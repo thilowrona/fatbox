{
  "nbformat": 4,
  "nbformat_minor": 0,
  "metadata": {
    "colab": {
      "name": "5-displacement.ipynb",
      "provenance": [],
      "collapsed_sections": [],
      "toc_visible": true
    },
    "kernelspec": {
      "name": "python38264bit102463ac686041a695987f2a94c796d4",
      "display_name": "Python 3.8.6 64-bit"
    },
    "widgets": {
      "application/vnd.jupyter.widget-state+json": {
        "002854c2f0a34b4b9ec445263df85b4c": {
          "model_module": "@jupyter-widgets/controls",
          "model_name": "VBoxModel",
          "state": {
            "_view_name": "VBoxView",
            "_dom_classes": [
              "widget-interact"
            ],
            "_model_name": "VBoxModel",
            "_view_module": "@jupyter-widgets/controls",
            "_model_module_version": "1.5.0",
            "_view_count": null,
            "_view_module_version": "1.5.0",
            "box_style": "",
            "layout": "IPY_MODEL_f9207ccb0a034bca9e34890d261d9770",
            "_model_module": "@jupyter-widgets/controls",
            "children": [
              "IPY_MODEL_b8aa0abd8aa649d3a2dc41745ea23675",
              "IPY_MODEL_996024b2fb394cef9d443d1ab5b9f69f"
            ]
          }
        },
        "f9207ccb0a034bca9e34890d261d9770": {
          "model_module": "@jupyter-widgets/base",
          "model_name": "LayoutModel",
          "state": {
            "_view_name": "LayoutView",
            "grid_template_rows": null,
            "right": null,
            "justify_content": null,
            "_view_module": "@jupyter-widgets/base",
            "overflow": null,
            "_model_module_version": "1.2.0",
            "_view_count": null,
            "flex_flow": null,
            "width": null,
            "min_width": null,
            "border": null,
            "align_items": null,
            "bottom": null,
            "_model_module": "@jupyter-widgets/base",
            "top": null,
            "grid_column": null,
            "overflow_y": null,
            "overflow_x": null,
            "grid_auto_flow": null,
            "grid_area": null,
            "grid_template_columns": null,
            "flex": null,
            "_model_name": "LayoutModel",
            "justify_items": null,
            "grid_row": null,
            "max_height": null,
            "align_content": null,
            "visibility": null,
            "align_self": null,
            "height": null,
            "min_height": null,
            "padding": null,
            "grid_auto_rows": null,
            "grid_gap": null,
            "max_width": null,
            "order": null,
            "_view_module_version": "1.2.0",
            "grid_template_areas": null,
            "object_position": null,
            "object_fit": null,
            "grid_auto_columns": null,
            "margin": null,
            "display": null,
            "left": null
          }
        },
        "b8aa0abd8aa649d3a2dc41745ea23675": {
          "model_module": "@jupyter-widgets/controls",
          "model_name": "IntSliderModel",
          "state": {
            "_view_name": "IntSliderView",
            "style": "IPY_MODEL_0056606806f440f3acc14b38d20fa25a",
            "_dom_classes": [],
            "description": "time",
            "step": 1,
            "_model_name": "IntSliderModel",
            "orientation": "horizontal",
            "max": 49,
            "_view_module": "@jupyter-widgets/controls",
            "_model_module_version": "1.5.0",
            "value": 3,
            "_view_count": null,
            "disabled": false,
            "_view_module_version": "1.5.0",
            "min": 3,
            "continuous_update": true,
            "readout_format": "d",
            "description_tooltip": null,
            "readout": true,
            "_model_module": "@jupyter-widgets/controls",
            "layout": "IPY_MODEL_9297b42459424f0894049ecc9d690c4d"
          }
        },
        "996024b2fb394cef9d443d1ab5b9f69f": {
          "model_module": "@jupyter-widgets/output",
          "model_name": "OutputModel",
          "state": {
            "_view_name": "OutputView",
            "msg_id": "",
            "_dom_classes": [],
            "_model_name": "OutputModel",
            "outputs": [
              {
                "output_type": "display_data",
                "metadata": {
                  "tags": []
                },
                "image/png": "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\n",
                "text/plain": "<Figure size 1152x288 with 2 Axes>"
              }
            ],
            "_view_module": "@jupyter-widgets/output",
            "_model_module_version": "1.0.0",
            "_view_count": null,
            "_view_module_version": "1.0.0",
            "layout": "IPY_MODEL_dc5b5e6018f4432aa0f2556b850d59c7",
            "_model_module": "@jupyter-widgets/output"
          }
        },
        "0056606806f440f3acc14b38d20fa25a": {
          "model_module": "@jupyter-widgets/controls",
          "model_name": "SliderStyleModel",
          "state": {
            "_view_name": "StyleView",
            "handle_color": null,
            "_model_name": "SliderStyleModel",
            "description_width": "",
            "_view_module": "@jupyter-widgets/base",
            "_model_module_version": "1.5.0",
            "_view_count": null,
            "_view_module_version": "1.2.0",
            "_model_module": "@jupyter-widgets/controls"
          }
        },
        "9297b42459424f0894049ecc9d690c4d": {
          "model_module": "@jupyter-widgets/base",
          "model_name": "LayoutModel",
          "state": {
            "_view_name": "LayoutView",
            "grid_template_rows": null,
            "right": null,
            "justify_content": null,
            "_view_module": "@jupyter-widgets/base",
            "overflow": null,
            "_model_module_version": "1.2.0",
            "_view_count": null,
            "flex_flow": null,
            "width": "900px",
            "min_width": null,
            "border": null,
            "align_items": null,
            "bottom": null,
            "_model_module": "@jupyter-widgets/base",
            "top": null,
            "grid_column": null,
            "overflow_y": null,
            "overflow_x": null,
            "grid_auto_flow": null,
            "grid_area": null,
            "grid_template_columns": null,
            "flex": null,
            "_model_name": "LayoutModel",
            "justify_items": null,
            "grid_row": null,
            "max_height": null,
            "align_content": null,
            "visibility": null,
            "align_self": null,
            "height": null,
            "min_height": null,
            "padding": null,
            "grid_auto_rows": null,
            "grid_gap": null,
            "max_width": null,
            "order": null,
            "_view_module_version": "1.2.0",
            "grid_template_areas": null,
            "object_position": null,
            "object_fit": null,
            "grid_auto_columns": null,
            "margin": null,
            "display": null,
            "left": null
          }
        },
        "dc5b5e6018f4432aa0f2556b850d59c7": {
          "model_module": "@jupyter-widgets/base",
          "model_name": "LayoutModel",
          "state": {
            "_view_name": "LayoutView",
            "grid_template_rows": null,
            "right": null,
            "justify_content": null,
            "_view_module": "@jupyter-widgets/base",
            "overflow": null,
            "_model_module_version": "1.2.0",
            "_view_count": null,
            "flex_flow": null,
            "width": "1000px",
            "min_width": null,
            "border": null,
            "align_items": null,
            "bottom": null,
            "_model_module": "@jupyter-widgets/base",
            "top": null,
            "grid_column": null,
            "overflow_y": null,
            "overflow_x": null,
            "grid_auto_flow": null,
            "grid_area": null,
            "grid_template_columns": null,
            "flex": null,
            "_model_name": "LayoutModel",
            "justify_items": null,
            "grid_row": null,
            "max_height": null,
            "align_content": null,
            "visibility": null,
            "align_self": null,
            "height": null,
            "min_height": null,
            "padding": null,
            "grid_auto_rows": null,
            "grid_gap": null,
            "max_width": null,
            "order": null,
            "_view_module_version": "1.2.0",
            "grid_template_areas": null,
            "object_position": null,
            "object_fit": null,
            "grid_auto_columns": null,
            "margin": null,
            "display": null,
            "left": null
          }
        },
        "74a2fe483e5c4b2aa41ed1114717055a": {
          "model_module": "@jupyter-widgets/controls",
          "model_name": "VBoxModel",
          "state": {
            "_view_name": "VBoxView",
            "_dom_classes": [
              "widget-interact"
            ],
            "_model_name": "VBoxModel",
            "_view_module": "@jupyter-widgets/controls",
            "_model_module_version": "1.5.0",
            "_view_count": null,
            "_view_module_version": "1.5.0",
            "box_style": "",
            "layout": "IPY_MODEL_4194acc4e0284674978a075444d3258b",
            "_model_module": "@jupyter-widgets/controls",
            "children": [
              "IPY_MODEL_c5d8da82eb8549c1b5b5d9d7ac8eaf40",
              "IPY_MODEL_97dc6d9e14f14da0a0c3d848a8a048ac"
            ]
          }
        },
        "4194acc4e0284674978a075444d3258b": {
          "model_module": "@jupyter-widgets/base",
          "model_name": "LayoutModel",
          "state": {
            "_view_name": "LayoutView",
            "grid_template_rows": null,
            "right": null,
            "justify_content": null,
            "_view_module": "@jupyter-widgets/base",
            "overflow": null,
            "_model_module_version": "1.2.0",
            "_view_count": null,
            "flex_flow": null,
            "width": null,
            "min_width": null,
            "border": null,
            "align_items": null,
            "bottom": null,
            "_model_module": "@jupyter-widgets/base",
            "top": null,
            "grid_column": null,
            "overflow_y": null,
            "overflow_x": null,
            "grid_auto_flow": null,
            "grid_area": null,
            "grid_template_columns": null,
            "flex": null,
            "_model_name": "LayoutModel",
            "justify_items": null,
            "grid_row": null,
            "max_height": null,
            "align_content": null,
            "visibility": null,
            "align_self": null,
            "height": null,
            "min_height": null,
            "padding": null,
            "grid_auto_rows": null,
            "grid_gap": null,
            "max_width": null,
            "order": null,
            "_view_module_version": "1.2.0",
            "grid_template_areas": null,
            "object_position": null,
            "object_fit": null,
            "grid_auto_columns": null,
            "margin": null,
            "display": null,
            "left": null
          }
        },
        "c5d8da82eb8549c1b5b5d9d7ac8eaf40": {
          "model_module": "@jupyter-widgets/controls",
          "model_name": "IntSliderModel",
          "state": {
            "_view_name": "IntSliderView",
            "style": "IPY_MODEL_b821946cb7494f0bae53e2ec767b4f19",
            "_dom_classes": [],
            "description": "time",
            "step": 1,
            "_model_name": "IntSliderModel",
            "orientation": "horizontal",
            "max": 45,
            "_view_module": "@jupyter-widgets/controls",
            "_model_module_version": "1.5.0",
            "value": 45,
            "_view_count": null,
            "disabled": false,
            "_view_module_version": "1.5.0",
            "min": 3,
            "continuous_update": true,
            "readout_format": "d",
            "description_tooltip": null,
            "readout": true,
            "_model_module": "@jupyter-widgets/controls",
            "layout": "IPY_MODEL_adbecec1fa254ade9d24573cdd2ff729"
          }
        },
        "97dc6d9e14f14da0a0c3d848a8a048ac": {
          "model_module": "@jupyter-widgets/output",
          "model_name": "OutputModel",
          "state": {
            "_view_name": "OutputView",
            "msg_id": "",
            "_dom_classes": [],
            "_model_name": "OutputModel",
            "outputs": [
              {
                "output_type": "display_data",
                "metadata": {
                  "tags": []
                },
                "image/png": "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\n",
                "text/plain": "<Figure size 1152x288 with 2 Axes>"
              }
            ],
            "_view_module": "@jupyter-widgets/output",
            "_model_module_version": "1.0.0",
            "_view_count": null,
            "_view_module_version": "1.0.0",
            "layout": "IPY_MODEL_71d784948fa2473a8488ffb462d64beb",
            "_model_module": "@jupyter-widgets/output"
          }
        },
        "b821946cb7494f0bae53e2ec767b4f19": {
          "model_module": "@jupyter-widgets/controls",
          "model_name": "SliderStyleModel",
          "state": {
            "_view_name": "StyleView",
            "handle_color": null,
            "_model_name": "SliderStyleModel",
            "description_width": "",
            "_view_module": "@jupyter-widgets/base",
            "_model_module_version": "1.5.0",
            "_view_count": null,
            "_view_module_version": "1.2.0",
            "_model_module": "@jupyter-widgets/controls"
          }
        },
        "adbecec1fa254ade9d24573cdd2ff729": {
          "model_module": "@jupyter-widgets/base",
          "model_name": "LayoutModel",
          "state": {
            "_view_name": "LayoutView",
            "grid_template_rows": null,
            "right": null,
            "justify_content": null,
            "_view_module": "@jupyter-widgets/base",
            "overflow": null,
            "_model_module_version": "1.2.0",
            "_view_count": null,
            "flex_flow": null,
            "width": "900px",
            "min_width": null,
            "border": null,
            "align_items": null,
            "bottom": null,
            "_model_module": "@jupyter-widgets/base",
            "top": null,
            "grid_column": null,
            "overflow_y": null,
            "overflow_x": null,
            "grid_auto_flow": null,
            "grid_area": null,
            "grid_template_columns": null,
            "flex": null,
            "_model_name": "LayoutModel",
            "justify_items": null,
            "grid_row": null,
            "max_height": null,
            "align_content": null,
            "visibility": null,
            "align_self": null,
            "height": null,
            "min_height": null,
            "padding": null,
            "grid_auto_rows": null,
            "grid_gap": null,
            "max_width": null,
            "order": null,
            "_view_module_version": "1.2.0",
            "grid_template_areas": null,
            "object_position": null,
            "object_fit": null,
            "grid_auto_columns": null,
            "margin": null,
            "display": null,
            "left": null
          }
        },
        "71d784948fa2473a8488ffb462d64beb": {
          "model_module": "@jupyter-widgets/base",
          "model_name": "LayoutModel",
          "state": {
            "_view_name": "LayoutView",
            "grid_template_rows": null,
            "right": null,
            "justify_content": null,
            "_view_module": "@jupyter-widgets/base",
            "overflow": null,
            "_model_module_version": "1.2.0",
            "_view_count": null,
            "flex_flow": null,
            "width": "1000px",
            "min_width": null,
            "border": null,
            "align_items": null,
            "bottom": null,
            "_model_module": "@jupyter-widgets/base",
            "top": null,
            "grid_column": null,
            "overflow_y": null,
            "overflow_x": null,
            "grid_auto_flow": null,
            "grid_area": null,
            "grid_template_columns": null,
            "flex": null,
            "_model_name": "LayoutModel",
            "justify_items": null,
            "grid_row": null,
            "max_height": null,
            "align_content": null,
            "visibility": null,
            "align_self": null,
            "height": null,
            "min_height": null,
            "padding": null,
            "grid_auto_rows": null,
            "grid_gap": null,
            "max_width": null,
            "order": null,
            "_view_module_version": "1.2.0",
            "grid_template_areas": null,
            "object_position": null,
            "object_fit": null,
            "grid_auto_columns": null,
            "margin": null,
            "display": null,
            "left": null
          }
        }
      }
    },
    "metadata": {
      "interpreter": {
        "hash": "3734dfd4db4ecefc9d41f3190f353a002706f1d1c09a9498e7ea1b22030d347c"
      }
    }
  },
  "cells": [
    {
      "cell_type": "markdown",
      "metadata": {
        "id": "M8WsE8ikugs3"
      },
      "source": [
        "# Example 5: Sum up displacement\n",
        "This example describes how to correlate faults extracted at different time steps."
      ]
    },
    {
      "cell_type": "markdown",
      "metadata": {
        "id": "_wnqah3PvRhD"
      },
      "source": [
        "## Setup\n",
        "\n",
        "1. First, you will need sign in to your Google account. If you're not signed in, you can sign in [here](https://myaccount.google.com/?utm_source=sign_in_no_continue)\n",
        "2. Next, head on to the [Colab Welcome Page](https://colab.research.google.com/notebooks/welcome.ipynb#recent=true).\n",
        "3. There, select Github in the top tab and search for https://github.com/thilowrona/fault_analysis_toolbox/blob/master/examples/2-fault_properties/2-fault_properties.ipynb\n",
        "4. Clicking opens this notebook. This is a Jupyter notebook; an awesome combination of code and documentation allowing us work on, describe and share our projects.\n",
        "5. When you run the first cell, you will face a pop-up saying ‘Warning: This notebook was not authored by Google’; you should click on ‘Run Anyway’ to get rid of the warning.\n",
        "6. Next we want to save our notebook. If you click on ‘File’ and then ‘Save’, you will see a pop-up saying ´CANNOT SAVE CHANGES´. Now, click on ‘SAVE A COPY IN DRIVE’. This opens up a new tab with the same file, but this time located in your Drive. If you want to continue working after saving, use the file in the new tab. Your notebook will be saved in a folder called Colab Notebooks in your Google Drive by default."
      ]
    },
    {
      "cell_type": "markdown",
      "metadata": {
        "id": "uLMyh4JWwFRq"
      },
      "source": [
        "## Load packages\n",
        "To run the toolbox, we will need a couple of packages including the toolbox itself. So let's install them:"
      ]
    },
    {
      "source": [
        "!git clone https://github.com/thilowrona/fault_analysis_toolbox"
      ],
      "cell_type": "code",
      "metadata": {
        "id": "8umzJV2qwtEw",
        "colab": {
          "base_uri": "https://localhost:8080/"
        },
        "outputId": "f4162ebf-1af2-4a6e-e63e-267232f489e2"
      },
      "execution_count": null,
      "outputs": []
    },
    {
      "source": [
        "!pip3 install vtk\n",
        "!pip3 install git+https://github.com/ulikoehler/cv_algorithms.git"
      ],
      "cell_type": "code",
      "metadata": {
        "colab": {
          "base_uri": "https://localhost:8080/"
        },
        "id": "pgN89-u56Tdl",
        "outputId": "e983a599-c78c-4ecf-831d-ff9a7a230f6e"
      },
      "execution_count": null,
      "outputs": []
    },
    {
      "cell_type": "markdown",
      "metadata": {
        "id": "OhqvKEkew-Qb"
      },
      "source": [
        "Now we can load the python packages:"
      ]
    },
    {
      "cell_type": "code",
      "metadata": {
        "id": "YlR6sp36t4Ag"
      },
      "source": [
        "import pickle\n",
        "\n",
        "import matplotlib.pyplot as plt\n",
        "import numpy as np\n",
        "from ipywidgets import Layout, interactive, widgets\n",
        "from tqdm import tqdm\n"
      ],
      "execution_count": null,
      "outputs": []
    },
    {
      "cell_type": "markdown",
      "metadata": {
        "id": "wZilTT2YxyMd"
      },
      "source": [
        "and the functions from the fault analysis toolbox that we want to use:"
      ]
    },
    {
      "cell_type": "code",
      "metadata": {
        "id": "GK67NWzRxv8y"
      },
      "source": [
        "from faultanalysistoolbox.edits import closest_node, assign_displacement\n",
        "from faultanalysistoolbox.plots import plot_attribute, plot_faults"
      ],
      "execution_count": null,
      "outputs": []
    },
    {
      "cell_type": "markdown",
      "metadata": {
        "id": "0g4ix_pTyDMK"
      },
      "source": [
        "## Load and plot faults"
      ]
    },
    {
      "cell_type": "markdown",
      "metadata": {
        "id": "MknzhRqNyS5Y"
      },
      "source": [
        "First, we load our fault networks extracted from a 2-D model over several timesteps:"
      ]
    },
    {
      "cell_type": "code",
      "metadata": {
        "id": "Z1s32vUwl1Pv"
      },
      "source": [
        "Gs = []\n",
        "for n in range(3,50):\n",
        "  Gs.append(pickle.load(open('/content/fault_analysis_toolbox/examples/5-displacement/graphs/g_'+ str(n) + '.p', 'rb')))"
      ],
      "execution_count": null,
      "outputs": []
    },
    {
      "cell_type": "markdown",
      "metadata": {
        "id": "WANOe13NoQ8s"
      },
      "source": [
        "Now we can visualize these faults:"
      ]
    },
    {
      "cell_type": "code",
      "metadata": {
        "colab": {
          "base_uri": "https://localhost:8080/",
          "height": 301,
          "referenced_widgets": [
            "002854c2f0a34b4b9ec445263df85b4c",
            "f9207ccb0a034bca9e34890d261d9770",
            "b8aa0abd8aa649d3a2dc41745ea23675",
            "996024b2fb394cef9d443d1ab5b9f69f",
            "0056606806f440f3acc14b38d20fa25a",
            "9297b42459424f0894049ecc9d690c4d",
            "dc5b5e6018f4432aa0f2556b850d59c7"
          ]
        },
        "id": "RHTU5Tnl9okC",
        "outputId": "5d6e689d-1a51-4358-81bd-7828778873e2"
      },
      "source": [
        "%matplotlib inline\n",
        "from ipywidgets import interactive, widgets, Layout\n",
        "\n",
        "\n",
        "def f(time):\n",
        "    fig, ax = plt.subplots(figsize=(16,4))\n",
        "    plot_attribute(Gs[time], 'slip', ax)\n",
        "    plt.xlim([1000, 3500])\n",
        "    plt.ylim([600, 0])\n",
        "    plt.show()\n",
        "\n",
        "interactive_plot = interactive(f, time=widgets.IntSlider(min=3, max=49, step=1, layout=Layout(width='900px')))\n",
        "output = interactive_plot.children[-1]\n",
        "output.layout.width = '1000px'\n",
        "interactive_plot"
      ],
      "execution_count": null,
      "outputs": []
    },
    {
      "cell_type": "markdown",
      "metadata": {
        "id": "-4_CloSNqB7j"
      },
      "source": [
        "## Sum up two time steps\n",
        "\n"
      ]
    },
    {
      "cell_type": "code",
      "metadata": {
        "id": "iK9XhrrI5UZr",
        "colab": {
          "base_uri": "https://localhost:8080/",
          "height": 544
        },
        "outputId": "d44a0254-75a7-435e-9a43-5b620102920b"
      },
      "source": [
        "G_0 = Gs[0]\n",
        "G_1 = Gs[1]\n",
        "\n",
        "fig, ax = plt.subplots(figsize=(16,4))\n",
        "plot_attribute(G_0, 'slip', ax)\n",
        "plt.title('time 0')\n",
        "plt.xlim([1000, 3500])\n",
        "plt.ylim([600, 0])\n",
        "plt.show()\n",
        "\n",
        "fig, ax = plt.subplots(figsize=(16,4))\n",
        "plt.title('time 1')\n",
        "plot_attribute(G_1, 'slip', ax)\n",
        "plt.xlim([1000, 3500])\n",
        "plt.ylim([600, 0])\n",
        "plt.show()\n"
      ],
      "execution_count": null,
      "outputs": []
    },
    {
      "cell_type": "markdown",
      "metadata": {
        "id": "AY67D0GyPQD8"
      },
      "source": [
        "First we just copy over slip to displacement:"
      ]
    },
    {
      "cell_type": "code",
      "metadata": {
        "colab": {
          "base_uri": "https://localhost:8080/"
        },
        "id": "GeHDh1T8Olkm",
        "outputId": "fb1ab0f6-e145-4f16-d654-7e6f20dbf710"
      },
      "source": [
        "def write_slip_to_displacement(G, dim):    \n",
        "    if dim == 2:\n",
        "        for node in G:\n",
        "            G.nodes[node]['heave'] = G.nodes[node]['slip_x']\n",
        "            G.nodes[node]['throw'] = G.nodes[node]['slip_z']\n",
        "            G.nodes[node]['displacement'] = G.nodes[node]['slip']\n",
        "\n",
        "    if dim == 3:\n",
        "        for node in G:\n",
        "            G.nodes[node]['heave']   = G.nodes[node]['slip_x']            \n",
        "            G.nodes[node]['lateral'] = G.nodes[node]['slip_y']\n",
        "            G.nodes[node]['throw']   = G.nodes[node]['slip_z']\n",
        "            G.nodes[node]['displacement'] = G.nodes[node]['slip']\n",
        "    return G\n",
        "\n",
        "G_0 = write_slip_to_displacement(G_0, dim=2)\n",
        "G_1 = write_slip_to_displacement(G_1, dim=2)\n",
        "\n",
        "print(G_0.nodes[10])"
      ],
      "execution_count": null,
      "outputs": []
    },
    {
      "cell_type": "markdown",
      "metadata": {
        "id": "vyIgRQxfPZhf"
      },
      "source": [
        "Now we find the faults common to both time steps:"
      ]
    },
    {
      "cell_type": "code",
      "metadata": {
        "colab": {
          "base_uri": "https://localhost:8080/"
        },
        "id": "fMboXfWVPBPY",
        "outputId": "2444ccb9-56dc-4584-9f62-a327b9e81960"
      },
      "source": [
        "def get_fault_labels(G):\n",
        "    labels=set()\n",
        "    for node in G:\n",
        "        labels.add(G.nodes[node]['fault'])\n",
        "    return sorted(list(labels))       \n",
        "\n",
        "def common_faults(G, H):\n",
        "    C_G = get_fault_labels(G)\n",
        "    C_H = get_fault_labels(H)\n",
        "    return list(set(C_G) & set(C_H))\n",
        "\n",
        "cf = common_faults(G_0, G_1)\n",
        "print(cf)"
      ],
      "execution_count": null,
      "outputs": []
    },
    {
      "cell_type": "markdown",
      "metadata": {
        "id": "4qRiIekLPxsF"
      },
      "source": [
        "Let's check:"
      ]
    },
    {
      "cell_type": "code",
      "metadata": {
        "colab": {
          "base_uri": "https://localhost:8080/",
          "height": 544
        },
        "id": "NopCuoZtPlZO",
        "outputId": "64b169fc-324f-4ba2-e5c2-364f26499827"
      },
      "source": [
        "fig, ax = plt.subplots(figsize=(16,4))\n",
        "plot_faults(G_0, ax, label=True)\n",
        "plt.title('time 0')\n",
        "plt.xlim([1000, 3500])\n",
        "plt.ylim([600, 0])\n",
        "plt.show()\n",
        "\n",
        "fig, ax = plt.subplots(figsize=(16,4))\n",
        "plt.title('time 1')\n",
        "plot_faults(G_1, ax, label=True)\n",
        "plt.xlim([1000, 3500])\n",
        "plt.ylim([600, 0])\n",
        "plt.show()"
      ],
      "execution_count": null,
      "outputs": []
    },
    {
      "cell_type": "markdown",
      "metadata": {
        "id": "lkIs9tOfQYai"
      },
      "source": [
        "Looks good!\n",
        "\n",
        "Now we need two more functions: one to get a fault and one to get the displacement with coordinates of the fault."
      ]
    },
    {
      "cell_type": "code",
      "metadata": {
        "id": "4RHsgPHrPqeE"
      },
      "source": [
        "def get_fault(G, n):\n",
        "    nodes = [node for node in G if G.nodes[node]['fault']==n]\n",
        "    return G.subgraph(nodes)\n",
        "\n",
        "def get_displacement(G, dim):  \n",
        "    if dim == 2:\n",
        "        points = np.zeros((len(list(G)),6))    \n",
        "        for n, node in enumerate(G):\n",
        "            points[n,0] = node\n",
        "            points[n,1] = G.nodes[node]['pos'][0]\n",
        "            points[n,2] = G.nodes[node]['pos'][1]\n",
        "            points[n,3] = G.nodes[node]['heave']\n",
        "            points[n,4] = G.nodes[node]['throw']\n",
        "            points[n,5] = G.nodes[node]['displacement']\n",
        "    if dim == 3:\n",
        "        points = np.zeros((len(list(G)),7))    \n",
        "        for n, node in enumerate(G):\n",
        "            points[n,0] = node\n",
        "            points[n,1] = G.nodes[node]['pos'][0]\n",
        "            points[n,2] = G.nodes[node]['pos'][1]\n",
        "            points[n,3] = G.nodes[node]['heave']\n",
        "            points[n,4] = G.nodes[node]['lateral']\n",
        "            points[n,5] = G.nodes[node]['throw']\n",
        "            points[n,6] = G.nodes[node]['displacement']\n",
        "    return points"
      ],
      "execution_count": null,
      "outputs": []
    },
    {
      "cell_type": "markdown",
      "metadata": {
        "id": "YYOB8Lt9RUc9"
      },
      "source": [
        "Now let's:\n",
        "\n",
        "1.   Go through the common faults\n",
        "2.   Get their displacement with coordinates\n",
        "3.   Find the closest points\n",
        "4.   Add the displacement from time 0 to time 1"
      ]
    },
    {
      "cell_type": "code",
      "metadata": {
        "id": "y0oEGrgFRV0B"
      },
      "source": [
        "for fault in cf:\n",
        "    \n",
        "    points_0 = get_displacement(get_fault(G_0, fault), dim=2)\n",
        "    points_1 = get_displacement(get_fault(G_1, fault), dim=2)\n",
        "\n",
        "    for n in range(points_1.shape[0]):    \n",
        "        index = closest_node(points_1[n,1:3], points_0[:,1:3]) \n",
        "        \n",
        "        points_1[n,3] += points_0[index][3]\n",
        "        points_1[n,4] += points_0[index][4]\n",
        "        points_1[n,5] += points_0[index][5]\n",
        "    \n",
        "    G_1 = assign_displacement(G_1, points_1, dim=2)"
      ],
      "execution_count": null,
      "outputs": []
    },
    {
      "cell_type": "code",
      "metadata": {
        "colab": {
          "base_uri": "https://localhost:8080/",
          "height": 544
        },
        "id": "V7QSFYviRsOM",
        "outputId": "951525e0-63ed-43ad-fc29-8c45a2f47f63"
      },
      "source": [
        "fig, ax = plt.subplots(figsize=(16,4))\n",
        "plot_attribute(G_0, 'displacement', ax)\n",
        "plt.title('time 0')\n",
        "plt.xlim([1000, 3500])\n",
        "plt.ylim([600, 0])\n",
        "plt.show()\n",
        "\n",
        "fig, ax = plt.subplots(figsize=(16,4))\n",
        "plt.title('time 1')\n",
        "plot_attribute(G_1, 'displacement', ax)\n",
        "plt.xlim([1000, 3500])\n",
        "plt.ylim([600, 0])\n",
        "plt.show()"
      ],
      "execution_count": null,
      "outputs": []
    },
    {
      "cell_type": "markdown",
      "metadata": {
        "id": "5HqKFz_rR4nw"
      },
      "source": [
        "Okay, they still look similar... but the colorbar stretches much further, so the displacement at time 1 really includes the slip from time 0!\n",
        "\n",
        "Now let's do this for all time steps:"
      ]
    },
    {
      "cell_type": "code",
      "metadata": {
        "colab": {
          "base_uri": "https://localhost:8080/"
        },
        "id": "fbMK3gh4SYzy",
        "outputId": "b77d60c2-5de9-4ee0-adf4-71738033b96b"
      },
      "source": [
        "max_comp = 0\n",
        "\n",
        "for time in tqdm(range(len(Gs)-1)):\n",
        "\n",
        "  G_0 = Gs[time]\n",
        "  G_1 = Gs[time+1]\n",
        "\n",
        "  if time == 0:\n",
        "    G_0 = write_slip_to_displacement(G_0, dim=2)  \n",
        "    Gs[time] = G_0\n",
        "  \n",
        "  G_1 = write_slip_to_displacement(G_1, dim=2)\n",
        "\n",
        "  cf = common_faults(G_0, G_1)\n",
        "\n",
        "  for fault in cf:\n",
        "    \n",
        "    points_0 = get_displacement(get_fault(G_0, fault), dim=2)\n",
        "    points_1 = get_displacement(get_fault(G_1, fault), dim=2)\n",
        "\n",
        "    for n in range(points_1.shape[0]):    \n",
        "        index = closest_node(points_1[n,1:3], points_0[:,1:3]) \n",
        "        \n",
        "        points_1[n,3] += points_0[index][3]\n",
        "        points_1[n,4] += points_0[index][4]\n",
        "        points_1[n,5] += points_0[index][5]\n",
        "    \n",
        "    G_1 = assign_displacement(G_1, points_1, dim=2)\n",
        "\n",
        "  Gs[time+1] = G_1"
      ],
      "execution_count": null,
      "outputs": []
    },
    {
      "cell_type": "code",
      "metadata": {
        "colab": {
          "base_uri": "https://localhost:8080/",
          "height": 301,
          "referenced_widgets": [
            "74a2fe483e5c4b2aa41ed1114717055a",
            "4194acc4e0284674978a075444d3258b",
            "c5d8da82eb8549c1b5b5d9d7ac8eaf40",
            "97dc6d9e14f14da0a0c3d848a8a048ac",
            "b821946cb7494f0bae53e2ec767b4f19",
            "adbecec1fa254ade9d24573cdd2ff729",
            "71d784948fa2473a8488ffb462d64beb"
          ]
        },
        "id": "7e61IBE7S9Jt",
        "outputId": "56bd36bd-c4b6-44bb-895f-6d1192b2bdd1"
      },
      "source": [
        "%matplotlib inline\n",
        "from ipywidgets import interactive, widgets, Layout\n",
        "\n",
        "\n",
        "def f(time):\n",
        "    fig, ax = plt.subplots(figsize=(16,4))\n",
        "    plot_attribute(Gs[time], 'displacement', ax)\n",
        "    plt.xlim([1000, 3500])\n",
        "    plt.ylim([600, 0])\n",
        "    plt.show()\n",
        "\n",
        "interactive_plot = interactive(f, time=widgets.IntSlider(min=3, max=45, step=1, layout=Layout(width='900px')))\n",
        "output = interactive_plot.children[-1]\n",
        "output.layout.width = '1000px'\n",
        "interactive_plot"
      ],
      "execution_count": null,
      "outputs": []
    },
    {
      "cell_type": "code",
      "metadata": {
        "id": "bcJoqDsjTRc5"
      },
      "source": [],
      "execution_count": null,
      "outputs": []
    }
  ]
}